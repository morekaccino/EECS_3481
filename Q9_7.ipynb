{
  "nbformat": 4,
  "nbformat_minor": 0,
  "metadata": {
    "colab": {
      "name": "Q9_7.ipynb",
      "provenance": [],
      "authorship_tag": "ABX9TyMMmb5ojdn/NgmADEcwy6Zq",
      "include_colab_link": true
    },
    "kernelspec": {
      "name": "python3",
      "display_name": "Python 3"
    }
  },
  "cells": [
    {
      "cell_type": "markdown",
      "metadata": {
        "id": "view-in-github",
        "colab_type": "text"
      },
      "source": [
        "<a href=\"https://colab.research.google.com/github/mowhamadrexa/EECS3481Assignments/blob/main/Q9_7.ipynb\" target=\"_parent\"><img src=\"https://colab.research.google.com/assets/colab-badge.svg\" alt=\"Open In Colab\"/></a>"
      ]
    },
    {
      "cell_type": "markdown",
      "metadata": {
        "id": "ytDU6Icr--PR"
      },
      "source": [
        "No it is not safe<br>\n",
        "Once Bob leaks her private key, an attacker can use the private key to factor the modulus, N.<br>\n",
        "If Bob doesn't change his modulus, an attacket can break every message he sends. It is important to change modulus."
      ]
    }
  ]
}
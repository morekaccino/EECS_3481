{
  "nbformat": 4,
  "nbformat_minor": 0,
  "metadata": {
    "colab": {
      "name": "Q12_3.ipynb",
      "provenance": [],
      "authorship_tag": "ABX9TyNJY3QUwU7AkgT7gzLNOTEr",
      "include_colab_link": true
    },
    "kernelspec": {
      "name": "python3",
      "display_name": "Python 3"
    }
  },
  "cells": [
    {
      "cell_type": "markdown",
      "metadata": {
        "id": "view-in-github",
        "colab_type": "text"
      },
      "source": [
        "<a href=\"https://colab.research.google.com/github/mowhamadrexa/EECS3481Assignments/blob/main/Q12_3.ipynb\" target=\"_parent\"><img src=\"https://colab.research.google.com/assets/colab-badge.svg\" alt=\"Open In Colab\"/></a>"
      ]
    },
    {
      "cell_type": "markdown",
      "metadata": {
        "id": "Lx37tqJNNoIj"
      },
      "source": [
        "For only one block, by definition, we have: $T = E(K, X)$, where $K$ is the key and $X$ is the message.<br>\n",
        "For a two-block message, the first block is $X$, and the second one, $X_{2}$, is $X \\oplus T$. The MAC would be:<br>\n",
        "$E(K, X_2)=E(K,T\\oplus(X\\oplus T))=E(K, X)=T$"
      ]
    }
  ]
}
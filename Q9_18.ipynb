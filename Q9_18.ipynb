{
  "nbformat": 4,
  "nbformat_minor": 0,
  "metadata": {
    "colab": {
      "name": "Q9_18.ipynb",
      "provenance": [],
      "authorship_tag": "ABX9TyP3NCUVudoGocdIOKRhs1I7",
      "include_colab_link": true
    },
    "kernelspec": {
      "name": "python3",
      "display_name": "Python 3"
    }
  },
  "cells": [
    {
      "cell_type": "markdown",
      "metadata": {
        "id": "view-in-github",
        "colab_type": "text"
      },
      "source": [
        "<a href=\"https://colab.research.google.com/github/mowhamadrexa/EECS3481Assignments/blob/main/Q9_18.ipynb\" target=\"_parent\"><img src=\"https://colab.research.google.com/assets/colab-badge.svg\" alt=\"Open In Colab\"/></a>"
      ]
    },
    {
      "cell_type": "markdown",
      "metadata": {
        "id": "urtatL3EJc17"
      },
      "source": [
        "$Z = r^{e} \\mod n$\n",
        "Therefore $r = Z^{d} \\mod n$<br>\n",
        "$tY \\mod n = r^{-1}X^{d}\\mod n = r^{-1}Z^{d}C^{d}\\mod n = r^{-1}r^{1}C^{d}\\mod n = C^{d}\\mod n$"
      ]
    },
    {
      "cell_type": "markdown",
      "metadata": {
        "id": "y9UIsuvMLc4i"
      },
      "source": [
        "So $M = C^{d}\\mod n$ Bob can use this to computer the messages"
      ]
    }
  ]
}
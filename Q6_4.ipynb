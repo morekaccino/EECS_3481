{
  "nbformat": 4,
  "nbformat_minor": 0,
  "metadata": {
    "colab": {
      "name": "Q6.4.ipynb",
      "provenance": [],
      "authorship_tag": "ABX9TyMvlVorReWxcQZnTs01UdJ1",
      "include_colab_link": true
    },
    "kernelspec": {
      "name": "python3",
      "display_name": "Python 3"
    }
  },
  "cells": [
    {
      "cell_type": "markdown",
      "metadata": {
        "id": "view-in-github",
        "colab_type": "text"
      },
      "source": [
        "<a href=\"https://colab.research.google.com/github/mowhamadrexa/EECS3481Assignments/blob/main/Q6_4.ipynb\" target=\"_parent\"><img src=\"https://colab.research.google.com/assets/colab-badge.svg\" alt=\"Open In Colab\"/></a>"
      ]
    },
    {
      "cell_type": "markdown",
      "metadata": {
        "id": "xR0M_10p5nb2"
      },
      "source": [
        "# a)"
      ]
    },
    {
      "cell_type": "markdown",
      "metadata": {
        "id": "_r4rdqF7zNnI"
      },
      "source": [
        "$$Plaintext = \\begin{bmatrix}\n",
        "00 & 04 & 08 & 0C\\\\ \n",
        "01 & 05 & 09 & 0D\\\\ \n",
        "02 & 06 & 0A & 0E\\\\ \n",
        "03 & 07 & 0B & 0F\n",
        "\\end{bmatrix}$$\n",
        "<br>\n",
        "$$Key = \\begin{bmatrix}\n",
        "01 & 01 & 01 & 01\\\\ \n",
        "01 & 01 & 01 & 01\\\\ \n",
        "01 & 01 & 01 & 01\\\\ \n",
        "01 & 01 & 01 & 01\n",
        "\\end{bmatrix}$$\n"
      ]
    },
    {
      "cell_type": "markdown",
      "metadata": {
        "id": "vuiqeDgI12Se"
      },
      "source": [
        "State matrix currecntly is equal to plaintext:\n",
        "$$StateMatrix = \\begin{bmatrix}\n",
        "00 & 04 & 08 & 0C\\\\ \n",
        "01 & 05 & 09 & 0D\\\\ \n",
        "02 & 06 & 0A & 0E\\\\ \n",
        "03 & 07 & 0B & 0F\n",
        "\\end{bmatrix}$$"
      ]
    },
    {
      "cell_type": "markdown",
      "metadata": {
        "id": "77y8Bksn51uz"
      },
      "source": [
        "# b)"
      ]
    },
    {
      "cell_type": "markdown",
      "metadata": {
        "id": "RRAMttcd0V7S"
      },
      "source": [
        "Next, we XOR the $StateMatrix$ and the $Key$:\n",
        "$$NewState=StateMatrix \\oplus Key = \\begin{bmatrix}\n",
        "01 & 05 & 09 & 0D\\\\ \n",
        "00 & 04 & 08 & 0C\\\\ \n",
        "03 & 07 & 0B & 0F\\\\ \n",
        "02 & 06 & 0A & 0E\n",
        "\\end{bmatrix}$$"
      ]
    },
    {
      "cell_type": "markdown",
      "metadata": {
        "id": "kX2Z-9BD6BzI"
      },
      "source": [
        "# c)"
      ]
    },
    {
      "cell_type": "markdown",
      "metadata": {
        "id": "IQt4HExr5Mhy"
      },
      "source": [
        "Then we replace the bytes using S-Box\n",
        "<img src=\"https://www.redalyc.org/jatsRepo/5122/512253718012/512253718012_gf3.jpg\">"
      ]
    },
    {
      "cell_type": "markdown",
      "metadata": {
        "id": "hRNuDNkV5YHu"
      },
      "source": [
        "$$NewState = \\begin{bmatrix}\n",
        "7C & 6B & 01 & D7\\\\ \n",
        "63 & F2 & 30 & FE\\\\ \n",
        "7B & C5 & 2B & 76\\\\ \n",
        "77 & 6F & 67 & AB\n",
        "\\end{bmatrix}$$"
      ]
    },
    {
      "cell_type": "markdown",
      "metadata": {
        "id": "1eK-gpy97a0t"
      },
      "source": [
        "# d)"
      ]
    },
    {
      "cell_type": "markdown",
      "metadata": {
        "id": "d4qXkzxo7eNy"
      },
      "source": [
        "The we left shift the first row by 0<br>\n",
        "The we left shift the second row by 1<br>\n",
        "The we left shift the third row by 2<br>\n",
        "The we left shift the fourth row by 3<br><br>\n",
        "$$NewState = \\begin{bmatrix}\n",
        "7C & 6B & 01 & D7\\\\ \n",
        "F2 & 30 & FE & 63\\\\ \n",
        "2B & 76 & 7B & C5\\\\ \n",
        "AB & 77 & 6F & 67 \n",
        "\\end{bmatrix}$$"
      ]
    },
    {
      "cell_type": "markdown",
      "metadata": {
        "id": "uFXGsVPl8JjS"
      },
      "source": [
        "# e)"
      ]
    },
    {
      "cell_type": "markdown",
      "metadata": {
        "id": "AzrHzVoc8L9Y"
      },
      "source": [
        "lastly, we multiply the state maatrix by the following matrix:<br>\n",
        "$$MultiplicationMatrix = \\begin{bmatrix}\n",
        "2 & 3 & 1 & 1\\\\ \n",
        "1 & 2 & 3 & 1\\\\ \n",
        "1 & 1 & 2 & 3\\\\ \n",
        "3 & 1 & 1 & 2 \n",
        "\\end{bmatrix}$$"
      ]
    },
    {
      "cell_type": "markdown",
      "metadata": {
        "id": "Db_95yGH8zTT"
      },
      "source": [
        "$$NewState = State \\cdot MultiplicationMatrix = \n",
        "\\begin{bmatrix}\n",
        "7C & 6B & 01 & D7\\\\ \n",
        "F2 & 30 & FE & 63\\\\ \n",
        "2B & 76 & 7B & C5\\\\ \n",
        "AB & 77 & 6F & 67 \n",
        "\\end{bmatrix}\n",
        "\\cdot\n",
        "\\begin{bmatrix}\n",
        "2 & 3 & 1 & 1\\\\ \n",
        "1 & 2 & 3 & 1\\\\ \n",
        "1 & 1 & 2 & 3\\\\ \n",
        "3 & 1 & 1 & 2 \n",
        "\\end{bmatrix}\n",
        "=\n",
        "\\begin{bmatrix}\n",
        "75 & 87 & 0F & B2\\\\ \n",
        "55 & E6 & 04 & 22\\\\ \n",
        "3E & 2E & B8 & 8C\\\\ \n",
        "10 & 15 & 58 & 0A \n",
        "\\end{bmatrix}\n",
        "$$"
      ]
    }
  ]
}
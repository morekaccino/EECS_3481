{
  "nbformat": 4,
  "nbformat_minor": 0,
  "metadata": {
    "colab": {
      "name": "Q3.14.ipynb",
      "provenance": [],
      "authorship_tag": "ABX9TyPOYHx77WTtICYX8ixiLF9V",
      "include_colab_link": true
    },
    "kernelspec": {
      "name": "python3",
      "display_name": "Python 3"
    }
  },
  "cells": [
    {
      "cell_type": "markdown",
      "metadata": {
        "id": "view-in-github",
        "colab_type": "text"
      },
      "source": [
        "<a href=\"https://colab.research.google.com/github/mowhamadrexa/EECS3481Assignments/blob/main/Q3_14.ipynb\" target=\"_parent\"><img src=\"https://colab.research.google.com/assets/colab-badge.svg\" alt=\"Open In Colab\"/></a>"
      ]
    },
    {
      "cell_type": "code",
      "metadata": {
        "id": "QX3Igis14ieh"
      },
      "source": [
        "import numpy as np\n",
        "import pandas as pd"
      ],
      "execution_count": 1,
      "outputs": []
    },
    {
      "cell_type": "markdown",
      "metadata": {
        "id": "Hz10eYJz_-t0"
      },
      "source": [
        "# Encryption\n",
        "The first step is to remove the spaces and group the plaintext into 24 pairs\n",
        "why 24? because the length of the plaintext is 47, si we add 'z' to the end to make it an even number, which is 48. then 48 = 24 * 2"
      ]
    },
    {
      "cell_type": "code",
      "metadata": {
        "id": "DkHPSqaS4liu",
        "outputId": "e8c31cee-4241-4343-fb7c-7f0cc09af3d1",
        "colab": {
          "base_uri": "https://localhost:8080/"
        }
      },
      "source": [
        "plain = \"meet me at the usual place at ten rather than eight o clock\"\n",
        "\n",
        "# let's remove the spaces\n",
        "plain = plain.replace(' ', '')\n",
        "plain += \"z\"\n",
        "matrix = np.array(list(plain)).reshape(24,2)\n",
        "matrix"
      ],
      "execution_count": 2,
      "outputs": [
        {
          "output_type": "execute_result",
          "data": {
            "text/plain": [
              "array([['m', 'e'],\n",
              "       ['e', 't'],\n",
              "       ['m', 'e'],\n",
              "       ['a', 't'],\n",
              "       ['t', 'h'],\n",
              "       ['e', 'u'],\n",
              "       ['s', 'u'],\n",
              "       ['a', 'l'],\n",
              "       ['p', 'l'],\n",
              "       ['a', 'c'],\n",
              "       ['e', 'a'],\n",
              "       ['t', 't'],\n",
              "       ['e', 'n'],\n",
              "       ['r', 'a'],\n",
              "       ['t', 'h'],\n",
              "       ['e', 'r'],\n",
              "       ['t', 'h'],\n",
              "       ['a', 'n'],\n",
              "       ['e', 'i'],\n",
              "       ['g', 'h'],\n",
              "       ['t', 'o'],\n",
              "       ['c', 'l'],\n",
              "       ['o', 'c'],\n",
              "       ['k', 'z']], dtype='<U1')"
            ]
          },
          "metadata": {
            "tags": []
          },
          "execution_count": 2
        }
      ]
    },
    {
      "cell_type": "markdown",
      "metadata": {
        "id": "BR-TtFSqAhQC"
      },
      "source": [
        "Now we convert all the letters to their corresponding number\n",
        "a = 0, b = 1, c = 2, ... , z = 25"
      ]
    },
    {
      "cell_type": "code",
      "metadata": {
        "id": "2BpCA0Lg7nJ-",
        "outputId": "a6b417ae-0513-4ee3-a942-1222b26c0817",
        "colab": {
          "base_uri": "https://localhost:8080/"
        }
      },
      "source": [
        "alphabet = list(\"abcdefghijklmnopqrstuvwxyz\")\n",
        "plain\n",
        "digitPlain = []\n",
        "for i in plain:\n",
        "  digitPlain.append(alphabet.index(i))\n",
        "matrixDigit = np.array(digitPlain).reshape(24, 2)\n",
        "matrixDigit"
      ],
      "execution_count": 3,
      "outputs": [
        {
          "output_type": "execute_result",
          "data": {
            "text/plain": [
              "array([[12,  4],\n",
              "       [ 4, 19],\n",
              "       [12,  4],\n",
              "       [ 0, 19],\n",
              "       [19,  7],\n",
              "       [ 4, 20],\n",
              "       [18, 20],\n",
              "       [ 0, 11],\n",
              "       [15, 11],\n",
              "       [ 0,  2],\n",
              "       [ 4,  0],\n",
              "       [19, 19],\n",
              "       [ 4, 13],\n",
              "       [17,  0],\n",
              "       [19,  7],\n",
              "       [ 4, 17],\n",
              "       [19,  7],\n",
              "       [ 0, 13],\n",
              "       [ 4,  8],\n",
              "       [ 6,  7],\n",
              "       [19, 14],\n",
              "       [ 2, 11],\n",
              "       [14,  2],\n",
              "       [10, 25]])"
            ]
          },
          "metadata": {
            "tags": []
          },
          "execution_count": 3
        }
      ]
    },
    {
      "cell_type": "markdown",
      "metadata": {
        "id": "GuSMyEZUAycV"
      },
      "source": [
        "The key is:$$Key = \\begin{pmatrix} 7 & 3 \\\\ 2 & 5 \\end{pmatrix}$$"
      ]
    },
    {
      "cell_type": "code",
      "metadata": {
        "id": "64QHdatl7Fb1",
        "outputId": "105ec9d6-28a1-41dc-c17c-c631088bcee9",
        "colab": {
          "base_uri": "https://localhost:8080/"
        }
      },
      "source": [
        "key = np.array([[7, 3],[2, 5]])\n",
        "key"
      ],
      "execution_count": 4,
      "outputs": [
        {
          "output_type": "execute_result",
          "data": {
            "text/plain": [
              "array([[7, 3],\n",
              "       [2, 5]])"
            ]
          },
          "metadata": {
            "tags": []
          },
          "execution_count": 4
        }
      ]
    },
    {
      "cell_type": "markdown",
      "metadata": {
        "id": "mzIYT4HhBTpp"
      },
      "source": [
        "Here is the crucial part. We multiply the Key and each pair, and save the `mod 26` of the result to `cipherDigit`:\n",
        "$$cipher = Key \\cdot  pair \\bmod 26$$\n",
        "\n",
        "$$\\begin{pmatrix} 7 & 3 \\\\ 2 & 5 \\end{pmatrix}.\\begin{pmatrix} 12 \\\\ 4 \\end{pmatrix}\\bmod 26 = \\begin{pmatrix} 18 \\\\ 18 \\end{pmatrix}$$\n",
        "\n",
        "$$\\begin{pmatrix} 7 & 3 \\\\ 2 & 5 \\end{pmatrix}.\\begin{pmatrix} 4 \\\\ 19 \\end{pmatrix}\\bmod 26 = \\begin{pmatrix} 7 \\\\ 25 \\end{pmatrix}$$\n",
        "\n",
        "$$\\begin{pmatrix} 7 & 3 \\\\ 2 & 5 \\end{pmatrix}.\\begin{pmatrix} 12 \\\\ 4 \\end{pmatrix}\\bmod 26 = \\begin{pmatrix} 18 \\\\ 18 \\end{pmatrix}$$\n",
        "\n",
        "$$\\vdots$$\n",
        "\n",
        "$$\\begin{pmatrix} 7 & 3 \\\\ 2 & 5 \\end{pmatrix}.\\begin{pmatrix} 10 \\\\ 25 \\end{pmatrix}\\bmod 26 = \\begin{pmatrix} 15 \\\\ 15 \\end{pmatrix}$$"
      ]
    },
    {
      "cell_type": "code",
      "metadata": {
        "id": "pmXSBHi87Uxj",
        "outputId": "9114bf8d-829c-44c1-9c23-c1e9306e8f4b",
        "colab": {
          "base_uri": "https://localhost:8080/"
        }
      },
      "source": [
        "cipherDigit = []\n",
        "for i in matrixDigit:\n",
        "  cipherDigit.append((key @ i) % 26)\n",
        "cipherDigit = np.array(cipherDigit)\n",
        "cipherDigit"
      ],
      "execution_count": 5,
      "outputs": [
        {
          "output_type": "execute_result",
          "data": {
            "text/plain": [
              "array([[18, 18],\n",
              "       [ 7, 25],\n",
              "       [18, 18],\n",
              "       [ 5, 17],\n",
              "       [24, 21],\n",
              "       [10,  4],\n",
              "       [ 4,  6],\n",
              "       [ 7,  3],\n",
              "       [ 8,  7],\n",
              "       [ 6, 10],\n",
              "       [ 2,  8],\n",
              "       [ 8,  3],\n",
              "       [15, 21],\n",
              "       [15,  8],\n",
              "       [24, 21],\n",
              "       [ 1, 15],\n",
              "       [24, 21],\n",
              "       [13, 13],\n",
              "       [ 0, 22],\n",
              "       [11, 21],\n",
              "       [19,  4],\n",
              "       [21,  7],\n",
              "       [ 0, 12],\n",
              "       [15, 15]])"
            ]
          },
          "metadata": {
            "tags": []
          },
          "execution_count": 5
        }
      ]
    },
    {
      "cell_type": "markdown",
      "metadata": {
        "id": "o2uhiCwmIekY"
      },
      "source": [
        "Now we convert all numbers to their corresponding letter: a = 0, b = 1, c = 2, ... , z = 25"
      ]
    },
    {
      "cell_type": "code",
      "metadata": {
        "id": "4fyZ8gxQ9pEM",
        "outputId": "fbc2bb70-50ce-46df-e412-337a3521c183",
        "colab": {
          "base_uri": "https://localhost:8080/",
          "height": 35
        }
      },
      "source": [
        "cipher = []\n",
        "for i in cipherDigit.reshape(48):\n",
        "  cipher.append(alphabet[i])\n",
        "cipher = \"\".join(cipher)\n",
        "cipher"
      ],
      "execution_count": 6,
      "outputs": [
        {
          "output_type": "execute_result",
          "data": {
            "application/vnd.google.colaboratory.intrinsic+json": {
              "type": "string"
            },
            "text/plain": [
              "'sshzssfryvkeeghdihgkciidpvpiyvbpyvnnawlvtevhampp'"
            ]
          },
          "metadata": {
            "tags": []
          },
          "execution_count": 6
        }
      ]
    },
    {
      "cell_type": "markdown",
      "metadata": {
        "id": "urbxLvYi_L7B"
      },
      "source": [
        "# The cipher is **\"sshzssfryvkeeghdihgkciidpvpiyvbpyvnnawlvtevhampp\"**\n"
      ]
    },
    {
      "cell_type": "markdown",
      "metadata": {
        "id": "RMOtiuxwN1wY"
      },
      "source": [
        "# Decryption\n",
        "For part b of the question we have to decrypt the cipher. First we need to find the key for decryption process.\n",
        "$$Decrytion Key = \\begin{pmatrix}\n",
        "7 & 3\\\\ \n",
        "2 & 5\n",
        "\\end{pmatrix}^{-1} = \\frac{1}{\\begin{vmatrix}\n",
        "7 & 3\\\\ \n",
        "2 & 5\n",
        "\\end{vmatrix}} \\times \\begin{pmatrix}\n",
        "5 & -3\\\\ \n",
        "-2 & 7\n",
        "\\end{pmatrix}=\\frac{1}{29} \\times \\begin{pmatrix}\n",
        "5 & -3\\\\ \n",
        "-2 & 7\n",
        "\\end{pmatrix}$$\n",
        "Next, we mod the matrix by 26 to make sure all the elements of the matrix are positive numbers.\n",
        "$$\\frac{1}{29} \\times \\begin{pmatrix}\n",
        "5 & -3\\\\ \n",
        "-2 & 7\n",
        "\\end{pmatrix} \\mod{26}=\\frac{1}{29} \\times \\begin{pmatrix}\n",
        "5 & 23\\\\ \n",
        "24 & 7\n",
        "\\end{pmatrix}$$\n",
        "Next, instead of 1/29 by the x from this equation:\n",
        "$$29 \\times x = 1 \\mod{26}$$\n",
        "$$x = 9$$\n",
        "Finally, we have all the pieces to make the decryption key:\n",
        "$$Decryption Key = 9 \\times \\begin{pmatrix}\n",
        "5 & 23\\\\ \n",
        "21 & 7\n",
        "\\end{pmatrix} \\mod{26} = \\begin{pmatrix}\n",
        "45 & 207\\\\ \n",
        "189 & 63\n",
        "\\end{pmatrix}\\mod{26}=\\begin{pmatrix}\n",
        "19 & 25\\\\ \n",
        "8 & 11\n",
        "\\end{pmatrix}$$"
      ]
    },
    {
      "cell_type": "code",
      "metadata": {
        "id": "NtXO3petgmMu",
        "outputId": "ba0c5f29-665f-44ea-fa5e-979f05dc1e2e",
        "colab": {
          "base_uri": "https://localhost:8080/"
        }
      },
      "source": [
        "dkey = np.array([[19, 25],[8, 11]])\n",
        "dkey"
      ],
      "execution_count": 26,
      "outputs": [
        {
          "output_type": "execute_result",
          "data": {
            "text/plain": [
              "array([[19, 25],\n",
              "       [ 8, 11]])"
            ]
          },
          "metadata": {
            "tags": []
          },
          "execution_count": 26
        }
      ]
    },
    {
      "cell_type": "markdown",
      "metadata": {
        "id": "-Bjr3A9Jqrot"
      },
      "source": [
        "Now just like encryption, we multiply decryption key and each pair of cipher matrix"
      ]
    },
    {
      "cell_type": "code",
      "metadata": {
        "id": "npz1nECJg6zr",
        "outputId": "0166992a-b6bf-405d-f4b9-c29d5132f4a2",
        "colab": {
          "base_uri": "https://localhost:8080/"
        }
      },
      "source": [
        "plainDigit = []\n",
        "for i in cipherDigit:\n",
        "  plainDigit.append((dkey @ i) % 26)\n",
        "plainDigit = np.array(plainDigit)\n",
        "plainDigit"
      ],
      "execution_count": 29,
      "outputs": [
        {
          "output_type": "execute_result",
          "data": {
            "text/plain": [
              "array([[12,  4],\n",
              "       [ 4, 19],\n",
              "       [12,  4],\n",
              "       [ 0, 19],\n",
              "       [19,  7],\n",
              "       [ 4, 20],\n",
              "       [18, 20],\n",
              "       [ 0, 11],\n",
              "       [15, 11],\n",
              "       [ 0,  2],\n",
              "       [ 4,  0],\n",
              "       [19, 19],\n",
              "       [ 4, 13],\n",
              "       [17,  0],\n",
              "       [19,  7],\n",
              "       [ 4, 17],\n",
              "       [19,  7],\n",
              "       [ 0, 13],\n",
              "       [ 4,  8],\n",
              "       [ 6,  7],\n",
              "       [19, 14],\n",
              "       [ 2, 11],\n",
              "       [14,  2],\n",
              "       [10, 25]])"
            ]
          },
          "metadata": {
            "tags": []
          },
          "execution_count": 29
        }
      ]
    },
    {
      "cell_type": "code",
      "metadata": {
        "id": "zdqJyA_bq4cd",
        "outputId": "8d901ca0-0a63-441d-8c33-89af63e136d4",
        "colab": {
          "base_uri": "https://localhost:8080/",
          "height": 35
        }
      },
      "source": [
        "plain = \"\"\n",
        "for i in plainDigit.reshape(48):\n",
        "  plain += alphabet[i]\n",
        "plain"
      ],
      "execution_count": 31,
      "outputs": [
        {
          "output_type": "execute_result",
          "data": {
            "application/vnd.google.colaboratory.intrinsic+json": {
              "type": "string"
            },
            "text/plain": [
              "'meetmeattheusualplaceattenratherthaneightoclockz'"
            ]
          },
          "metadata": {
            "tags": []
          },
          "execution_count": 31
        }
      ]
    },
    {
      "cell_type": "markdown",
      "metadata": {
        "id": "eXaPs1lGrEo5"
      },
      "source": [
        "# As you can see we recovered the plain text that we encrypted in the first part:\n",
        "# \"meetmeattheusualplaceattenratherthaneightoclockz\"\n",
        "with adding spaces and removing the 'z' we added to make it even:\n",
        "# **\"meet me at the usual place at ten rather than eight o clock\"**\n"
      ]
    }
  ]
}
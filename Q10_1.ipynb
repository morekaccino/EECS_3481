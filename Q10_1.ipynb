{
  "nbformat": 4,
  "nbformat_minor": 0,
  "metadata": {
    "colab": {
      "name": "Q10_1.ipynb",
      "provenance": [],
      "authorship_tag": "ABX9TyN8TG/O1+uxCzSyEvTNEHTc",
      "include_colab_link": true
    },
    "kernelspec": {
      "name": "python3",
      "display_name": "Python 3"
    }
  },
  "cells": [
    {
      "cell_type": "markdown",
      "metadata": {
        "id": "view-in-github",
        "colab_type": "text"
      },
      "source": [
        "<a href=\"https://colab.research.google.com/github/mowhamadrexa/EECS3481Assignments/blob/main/Q10_1.ipynb\" target=\"_parent\"><img src=\"https://colab.research.google.com/assets/colab-badge.svg\" alt=\"Open In Colab\"/></a>"
      ]
    },
    {
      "cell_type": "markdown",
      "metadata": {
        "id": "q5C_tBB0MciF"
      },
      "source": [
        "q=71, alpha = 7"
      ]
    },
    {
      "cell_type": "markdown",
      "metadata": {
        "id": "U1zC0OIaMrhR"
      },
      "source": [
        "# a)"
      ]
    },
    {
      "cell_type": "markdown",
      "metadata": {
        "id": "wtKlXZ4UN6dN"
      },
      "source": [
        "$X_{a} = 15$"
      ]
    },
    {
      "cell_type": "code",
      "metadata": {
        "colab": {
          "base_uri": "https://localhost:8080/"
        },
        "id": "PbyLfY1bMtBZ",
        "outputId": "fa3b09cb-5b70-463a-ac32-0a7d33bdd8f1"
      },
      "source": [
        "q = 71\n",
        "a = 7\n",
        "Xa = 15\n",
        "\n",
        "Ya = a**Xa % q\n",
        "Ya"
      ],
      "execution_count": 14,
      "outputs": [
        {
          "output_type": "execute_result",
          "data": {
            "text/plain": [
              "23"
            ]
          },
          "metadata": {
            "tags": []
          },
          "execution_count": 14
        }
      ]
    },
    {
      "cell_type": "markdown",
      "metadata": {
        "id": "eqZWCXt_NH2p"
      },
      "source": [
        "# b)"
      ]
    },
    {
      "cell_type": "markdown",
      "metadata": {
        "id": "TwLlIyBNN9n5"
      },
      "source": [
        "$X_{b} = 27$"
      ]
    },
    {
      "cell_type": "code",
      "metadata": {
        "colab": {
          "base_uri": "https://localhost:8080/"
        },
        "id": "MTo-qY3TNJ67",
        "outputId": "3218f65f-5afb-419e-a633-835a5a5c1db6"
      },
      "source": [
        "q = 71\n",
        "a = 7\n",
        "Xb = 27\n",
        "\n",
        "Yb = a**Xb % q\n",
        "Yb"
      ],
      "execution_count": 15,
      "outputs": [
        {
          "output_type": "execute_result",
          "data": {
            "text/plain": [
              "21"
            ]
          },
          "metadata": {
            "tags": []
          },
          "execution_count": 15
        }
      ]
    },
    {
      "cell_type": "markdown",
      "metadata": {
        "id": "AwYfFb4mN2nj"
      },
      "source": [
        "# c)"
      ]
    },
    {
      "cell_type": "code",
      "metadata": {
        "colab": {
          "base_uri": "https://localhost:8080/"
        },
        "id": "mIFg1jPON4DK",
        "outputId": "46f90b2b-9c33-498d-95d6-cc3286cc0707"
      },
      "source": [
        "AliceSharedKey = Yb**Xa % q\n",
        "AliceSharedKey"
      ],
      "execution_count": 17,
      "outputs": [
        {
          "output_type": "execute_result",
          "data": {
            "text/plain": [
              "34"
            ]
          },
          "metadata": {
            "tags": []
          },
          "execution_count": 17
        }
      ]
    },
    {
      "cell_type": "code",
      "metadata": {
        "colab": {
          "base_uri": "https://localhost:8080/"
        },
        "id": "ACOVGFZ5Oj9h",
        "outputId": "c37fe923-fa6f-4c23-c2c5-61f99d5209f4"
      },
      "source": [
        "BobSharedKey = Ya**Xb % q\n",
        "BobSharedKey"
      ],
      "execution_count": 18,
      "outputs": [
        {
          "output_type": "execute_result",
          "data": {
            "text/plain": [
              "34"
            ]
          },
          "metadata": {
            "tags": []
          },
          "execution_count": 18
        }
      ]
    },
    {
      "cell_type": "markdown",
      "metadata": {
        "id": "zfmdzQkYOzLS"
      },
      "source": [
        "The shared key is 34"
      ]
    }
  ]
}
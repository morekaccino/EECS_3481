{
  "nbformat": 4,
  "nbformat_minor": 0,
  "metadata": {
    "colab": {
      "name": "Q14_1.ipynb",
      "provenance": [],
      "authorship_tag": "ABX9TyNO3jqib8PsNdmevWv7iLBG",
      "include_colab_link": true
    },
    "kernelspec": {
      "name": "python3",
      "display_name": "Python 3"
    }
  },
  "cells": [
    {
      "cell_type": "markdown",
      "metadata": {
        "id": "view-in-github",
        "colab_type": "text"
      },
      "source": [
        "<a href=\"https://colab.research.google.com/github/mowhamadrexa/EECS3481Assignments/blob/main/Q14_1.ipynb\" target=\"_parent\"><img src=\"https://colab.research.google.com/assets/colab-badge.svg\" alt=\"Open In Colab\"/></a>"
      ]
    },
    {
      "cell_type": "markdown",
      "metadata": {
        "id": "ppuijQApZVSc"
      },
      "source": [
        "# a)"
      ]
    },
    {
      "cell_type": "markdown",
      "metadata": {
        "id": "70OMJgMdeF6K"
      },
      "source": [
        "A makes a connection request to B, in which A's identifier, $ID_a$,the encrypted $N_{a}$, or the noune, with the key that A shares with the KDC, $K_a$ is passed.<br>\n",
        "B accepts A's connection request. B makes a request to KDC for a session key, in which A's encrypted nounce $N_a$ and B's nounce $N_b$ are sent. The connection request is secured with the key that B and KDC share. KDC realises that A needs to communicate with B.\n",
        "<br>\n",
        "The KDC reponds with two encrypted block, one is for A, and the other is for B.\n",
        "<br>\n",
        "The block that is intended for B, has the session key, A's identifier, and B's nounce $N_b$.\n",
        "<br>\n",
        "The other block that is intended for A, paseed to A through B.\n",
        "<br>\n",
        "Finally, Both hosts, A and B, got their session key and nounces, and can securely communicate to each other."
      ]
    },
    {
      "cell_type": "markdown",
      "metadata": {
        "id": "IEp3tHGGd-2c"
      },
      "source": [
        "# b)"
      ]
    },
    {
      "cell_type": "markdown",
      "metadata": {
        "id": "lpo6C0n5gqNd"
      },
      "source": [
        "- Scheme 1 needs 4 steps, while scheme 2 requires 5 steps.<br>\n",
        "- In scheme 1 all the 4 steps are for key distribution, while in scheme 2, only 3 steps are for this process.<br>\n",
        "- In scheme 1 there is no authentication, but in scheme 2, the last two steps are for authentication\n",
        "-----------------------------------\n",
        "scheme 2 requires fewer steps. and might be more effecient (3 for key dist., while scheme 1 needs 4).<br>\n",
        "The main advantage of the proposed scheme is the less overhead of an interaction with the KDC if B fail to response to A(like in a congested network let's say).\n"
      ]
    }
  ]
}
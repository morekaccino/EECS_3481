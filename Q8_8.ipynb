{
  "nbformat": 4,
  "nbformat_minor": 0,
  "metadata": {
    "colab": {
      "name": "Q8_8.ipynb",
      "provenance": [],
      "authorship_tag": "ABX9TyNNLW1GVNEft3YXq6is77j/",
      "include_colab_link": true
    },
    "kernelspec": {
      "name": "python3",
      "display_name": "Python 3"
    }
  },
  "cells": [
    {
      "cell_type": "markdown",
      "metadata": {
        "id": "view-in-github",
        "colab_type": "text"
      },
      "source": [
        "<a href=\"https://colab.research.google.com/github/mowhamadrexa/EECS3481Assignments/blob/main/Q8_8.ipynb\" target=\"_parent\"><img src=\"https://colab.research.google.com/assets/colab-badge.svg\" alt=\"Open In Colab\"/></a>"
      ]
    },
    {
      "cell_type": "markdown",
      "metadata": {
        "id": "xR0M_10p5nb2"
      },
      "source": [
        "# a)"
      ]
    },
    {
      "cell_type": "markdown",
      "metadata": {
        "id": "33o09_vf2l0K"
      },
      "source": [
        "we define v initialization vector as the first 64 bits of $v \\left | \\right | c$.<br>\n",
        "Bob can decrypt the message using $RC4(v \\left |  \\right | k)\\bigoplus c$.<br>\n",
        "v, c, and k are known, So bob can easily decrypt the message."
      ]
    },
    {
      "cell_type": "markdown",
      "metadata": {
        "id": "77y8Bksn51uz"
      },
      "source": [
        "# b)"
      ]
    },
    {
      "cell_type": "markdown",
      "metadata": {
        "id": "Tfw7PxL1Dg_s"
      },
      "source": [
        "if for two messages, $i$ and $j$, $v_{i} = v_{j}$, then we can conclude that the same key has been used for  messages $i$ and $j$."
      ]
    },
    {
      "cell_type": "markdown",
      "metadata": {
        "id": "snc7nzJ15H78"
      },
      "source": [
        "# c)"
      ]
    },
    {
      "cell_type": "markdown",
      "metadata": {
        "id": "9hZYwo8F5I3t"
      },
      "source": [
        "The key is fixed. So the only variable is 64 bits of $v$, that makes for $2^{64}$ combinations.<br>\n",
        "Using appendix U, we can send approximately $\\sqrt{2^{64}} = 2^{32}$ messages before we see repetitive key stream."
      ]
    },
    {
      "cell_type": "markdown",
      "metadata": {
        "id": "6c5QtvVY8JHz"
      },
      "source": [
        "# d)"
      ]
    },
    {
      "cell_type": "markdown",
      "metadata": {
        "id": "TFYE87RR8LXL"
      },
      "source": [
        "The key must be changed before the $2^{32}$th message."
      ]
    }
  ]
}
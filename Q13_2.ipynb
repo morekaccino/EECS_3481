{
  "nbformat": 4,
  "nbformat_minor": 0,
  "metadata": {
    "colab": {
      "name": "Q13_2.ipynb",
      "provenance": [],
      "authorship_tag": "ABX9TyN6RtoP2Y+pKuySD2f6mnTG",
      "include_colab_link": true
    },
    "kernelspec": {
      "name": "python3",
      "display_name": "Python 3"
    }
  },
  "cells": [
    {
      "cell_type": "markdown",
      "metadata": {
        "id": "view-in-github",
        "colab_type": "text"
      },
      "source": [
        "<a href=\"https://colab.research.google.com/github/mowhamadrexa/EECS3481Assignments/blob/main/Q13_2.ipynb\" target=\"_parent\"><img src=\"https://colab.research.google.com/assets/colab-badge.svg\" alt=\"Open In Colab\"/></a>"
      ]
    },
    {
      "cell_type": "markdown",
      "metadata": {
        "id": "ppuijQApZVSc"
      },
      "source": [
        "New key, K, should be generated because if s=0, the private key, x, can be obtained:<br>\n",
        "$s = [K^{-1}H(M)+xr]\\mod q$<br>\n",
        "if $s=0$, then it is divisible by q, so we'd have:<br>\n",
        "$x = \\tfrac{-H(M)}{r}\\mod q$\n",
        "<br>\n",
        "So when $s=0$, a new value of k should be generated."
      ]
    }
  ]
}
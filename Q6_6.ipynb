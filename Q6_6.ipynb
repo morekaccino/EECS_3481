{
  "nbformat": 4,
  "nbformat_minor": 0,
  "metadata": {
    "colab": {
      "name": "Q6.6.ipynb",
      "provenance": [],
      "authorship_tag": "ABX9TyPMXSGt2xAysfHyKSlmOKJ+",
      "include_colab_link": true
    },
    "kernelspec": {
      "name": "python3",
      "display_name": "Python 3"
    }
  },
  "cells": [
    {
      "cell_type": "markdown",
      "metadata": {
        "id": "view-in-github",
        "colab_type": "text"
      },
      "source": [
        "<a href=\"https://colab.research.google.com/github/mowhamadrexa/EECS3481Assignments/blob/main/Q6_6.ipynb\" target=\"_parent\"><img src=\"https://colab.research.google.com/assets/colab-badge.svg\" alt=\"Open In Colab\"/></a>"
      ]
    },
    {
      "cell_type": "markdown",
      "metadata": {
        "id": "xR0M_10p5nb2"
      },
      "source": [
        "# a)"
      ]
    },
    {
      "cell_type": "markdown",
      "metadata": {
        "id": "w6_f_2kODfIk"
      },
      "source": [
        "AddRoundKey"
      ]
    },
    {
      "cell_type": "markdown",
      "metadata": {
        "id": "77y8Bksn51uz"
      },
      "source": [
        "# b)"
      ]
    },
    {
      "cell_type": "markdown",
      "metadata": {
        "id": "Tfw7PxL1Dg_s"
      },
      "source": [
        "MixColumn.<br>\n",
        "Different bytes interact with each other at this stage."
      ]
    },
    {
      "cell_type": "markdown",
      "metadata": {
        "id": "kX2Z-9BD6BzI"
      },
      "source": [
        "# c)"
      ]
    },
    {
      "cell_type": "markdown",
      "metadata": {
        "id": "p0fkwRvRDmC3"
      },
      "source": [
        "ByteSub.<br>\n",
        "It makes AES nonlinear"
      ]
    },
    {
      "cell_type": "markdown",
      "metadata": {
        "id": "1eK-gpy97a0t"
      },
      "source": [
        "# d)"
      ]
    },
    {
      "cell_type": "markdown",
      "metadata": {
        "id": "V20kxXtsDoym"
      },
      "source": [
        "ShiftRow.\n",
        "<br>It essentially acts as a permutation function.<br>\n",
        "Also MixColumn, since it multiply the state by a constant matrix, and is reversible, can be considered as permutation for AES."
      ]
    },
    {
      "cell_type": "markdown",
      "metadata": {
        "id": "uFXGsVPl8JjS"
      },
      "source": [
        "# e)"
      ]
    },
    {
      "cell_type": "markdown",
      "metadata": {
        "id": "tldV3IzqDrLT"
      },
      "source": [
        "No need for swapping in AES:<br>\n",
        "1) at MixColumn, every byte affects others, in other words, bytes interact with each other.<br>\n",
        "2) at ShiftRow, we're basically performing swapping, but with a different perspective. Bytes are moved shifted from one column to another.<br>\n"
      ]
    }
  ]
}
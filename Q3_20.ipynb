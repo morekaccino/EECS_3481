{
  "nbformat": 4,
  "nbformat_minor": 0,
  "metadata": {
    "colab": {
      "name": "Q3.20.ipynb",
      "provenance": [],
      "authorship_tag": "ABX9TyPYF1b+SxRW9zgll+IMW1u1",
      "include_colab_link": true
    },
    "kernelspec": {
      "name": "python3",
      "display_name": "Python 3"
    }
  },
  "cells": [
    {
      "cell_type": "markdown",
      "metadata": {
        "id": "view-in-github",
        "colab_type": "text"
      },
      "source": [
        "<a href=\"https://colab.research.google.com/github/mowhamadrexa/EECS3481Assignments/blob/main/Q3_20.ipynb\" target=\"_parent\"><img src=\"https://colab.research.google.com/assets/colab-badge.svg\" alt=\"Open In Colab\"/></a>"
      ]
    },
    {
      "cell_type": "code",
      "metadata": {
        "id": "QX3Igis14ieh"
      },
      "source": [
        "import numpy as np\n",
        "import pandas as pd"
      ],
      "execution_count": 1,
      "outputs": []
    },
    {
      "cell_type": "code",
      "metadata": {
        "id": "2BpCA0Lg7nJ-"
      },
      "source": [
        "alphabet = list(\"abcdefghijklmnopqrstuvwxyz\")\n",
        "plain = \"sendmoremoney\"\n",
        "key = list(map(int, \"3 11 5 7 17 21 0 11 14 8 7 13 9\".split()))"
      ],
      "execution_count": 14,
      "outputs": []
    },
    {
      "cell_type": "code",
      "metadata": {
        "id": "zdqJyA_bq4cd",
        "outputId": "1631f201-ebbf-4470-b2ad-56c58d25d5b6",
        "colab": {
          "base_uri": "https://localhost:8080/",
          "height": 35
        }
      },
      "source": [
        "cipher = \"\"\n",
        "for index, letter in enumerate(plain):\n",
        "  cipherDigit = alphabet.index(letter) + key[index % len(key)]\n",
        "  cipher += alphabet[cipherDigit % 26]\n",
        "cipher"
      ],
      "execution_count": 19,
      "outputs": [
        {
          "output_type": "execute_result",
          "data": {
            "application/vnd.google.colaboratory.intrinsic+json": {
              "type": "string"
            },
            "text/plain": [
              "'vpskdjrpawurh'"
            ]
          },
          "metadata": {
            "tags": []
          },
          "execution_count": 19
        }
      ]
    },
    {
      "cell_type": "markdown",
      "metadata": {
        "id": "dNb80TF7vMNk"
      },
      "source": [
        "# The cipher for part a is **\"vpskdjrpawurh\"**"
      ]
    },
    {
      "cell_type": "code",
      "metadata": {
        "id": "vMUc39_avU7d",
        "outputId": "e1d827ff-9e4e-49ac-9d73-6bba8e93e243",
        "colab": {
          "base_uri": "https://localhost:8080/",
          "height": 35
        }
      },
      "source": [
        "goal = \"cashnotneeded\"\n",
        "newKey = \"\"\n",
        "for g, c in zip(goal, cipher):\n",
        "  index = alphabet.index(c) - alphabet.index(g)\n",
        "  newKey += alphabet[index % 26]\n",
        "newKey"
      ],
      "execution_count": 22,
      "outputs": [
        {
          "output_type": "execute_result",
          "data": {
            "application/vnd.google.colaboratory.intrinsic+json": {
              "type": "string"
            },
            "text/plain": [
              "'tpadqvycwsrne'"
            ]
          },
          "metadata": {
            "tags": []
          },
          "execution_count": 22
        }
      ]
    },
    {
      "cell_type": "markdown",
      "metadata": {
        "id": "tAxXpO-3w629"
      },
      "source": [
        "# The new key to produce \"CASHNOTNEEDED\" is **\"tpadqvycwsrne\"**"
      ]
    }
  ]
}
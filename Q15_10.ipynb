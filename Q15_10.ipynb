{
  "nbformat": 4,
  "nbformat_minor": 0,
  "metadata": {
    "colab": {
      "name": "Q15_10.ipynb",
      "provenance": [],
      "collapsed_sections": [],
      "authorship_tag": "ABX9TyO/Y2PPCNjRGnP1efbO1W+H",
      "include_colab_link": true
    },
    "kernelspec": {
      "name": "python3",
      "display_name": "Python 3"
    }
  },
  "cells": [
    {
      "cell_type": "markdown",
      "metadata": {
        "id": "view-in-github",
        "colab_type": "text"
      },
      "source": [
        "<a href=\"https://colab.research.google.com/github/mowhamadrexa/EECS3481Assignments/blob/main/Q15_10.ipynb\" target=\"_parent\"><img src=\"https://colab.research.google.com/assets/colab-badge.svg\" alt=\"Open In Colab\"/></a>"
      ]
    },
    {
      "cell_type": "markdown",
      "metadata": {
        "id": "vtmcoDeqF-M3"
      },
      "source": [
        "Alice sends a ticket to Bob containing Alice's ID, Bob's ID and the encrpted time by the Bob's shared key. Bob decrypts the ticket using the key he shares with Alice, and checks for user ID and time stamp.<br>\n",
        "If the user ID in the decrypted message didn't match with Alice ID, then the message is not genuine.<br>\n",
        "Also, Bob checks the time to see if it matches with the range of acceptance time (is close to the current time in his system and Alices's system), if yes, then it is likely that the message is indeed from Alice. Otherwise, the message is not legitimate.<br> "
      ]
    }
  ]
}
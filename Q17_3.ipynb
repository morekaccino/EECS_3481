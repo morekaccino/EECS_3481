{
  "nbformat": 4,
  "nbformat_minor": 0,
  "metadata": {
    "colab": {
      "name": "Q17_3.ipynb",
      "provenance": [],
      "collapsed_sections": [],
      "authorship_tag": "ABX9TyOVobXHGiTqNQVjT6JESaT4",
      "include_colab_link": true
    },
    "kernelspec": {
      "name": "python3",
      "display_name": "Python 3"
    }
  },
  "cells": [
    {
      "cell_type": "markdown",
      "metadata": {
        "id": "view-in-github",
        "colab_type": "text"
      },
      "source": [
        "<a href=\"https://colab.research.google.com/github/mowhamadrexa/EECS3481Assignments/blob/main/Q17_3.ipynb\" target=\"_parent\"><img src=\"https://colab.research.google.com/assets/colab-badge.svg\" alt=\"Open In Colab\"/></a>"
      ]
    },
    {
      "cell_type": "markdown",
      "metadata": {
        "id": "7mGxJ11iczOM"
      },
      "source": [
        "# a)"
      ]
    },
    {
      "cell_type": "markdown",
      "metadata": {
        "id": "CWtxR1iic1S1"
      },
      "source": [
        "using a 40 to 168 bit key would alleviate this attack."
      ]
    },
    {
      "cell_type": "markdown",
      "metadata": {
        "id": "p3rERbhzdFk1"
      },
      "source": [
        "# b)"
      ]
    },
    {
      "cell_type": "markdown",
      "metadata": {
        "id": "7Kkmnb7NdG-r"
      },
      "source": [
        "SSL dodge this types of attack by using of a 40-bit key, but not really using 40 bits. The trick is to use a 128-bit key with 40-bit secret key. We left with 88- bits, and we construct them with the data in hello message. So the dictionary would have to handle $2^{128}$ entries."
      ]
    },
    {
      "cell_type": "markdown",
      "metadata": {
        "id": "71PlDFz5edH-"
      },
      "source": [
        "# c)"
      ]
    },
    {
      "cell_type": "markdown",
      "metadata": {
        "id": "XKcssx37eelF"
      },
      "source": [
        "nounces help here. using it at server and client."
      ]
    },
    {
      "cell_type": "markdown",
      "metadata": {
        "id": "RFv2MOUDehIh"
      },
      "source": [
        "# d)"
      ]
    },
    {
      "cell_type": "markdown",
      "metadata": {
        "id": "rTzgRJeveiaJ"
      },
      "source": [
        "Certification validation is helping in this attack. Both hosts must authenticate with the public key certificate."
      ]
    },
    {
      "cell_type": "markdown",
      "metadata": {
        "id": "P0rI48gmfAQ0"
      },
      "source": [
        "# e)"
      ]
    },
    {
      "cell_type": "markdown",
      "metadata": {
        "id": "tTAdKdgXfByZ"
      },
      "source": [
        "Since user data is encrypted, there is no way we can sniff it."
      ]
    },
    {
      "cell_type": "markdown",
      "metadata": {
        "id": "DqWgwPRWfQ2-"
      },
      "source": [
        "# f)"
      ]
    },
    {
      "cell_type": "markdown",
      "metadata": {
        "id": "yH5nZxhEfSkc"
      },
      "source": [
        "Public key or certificate can be of help against this kind of attacks.<br>\n",
        "If the attacker doesn't have both SSL public key and SSL certificate, s/he cannot use this types of attacks."
      ]
    },
    {
      "cell_type": "markdown",
      "metadata": {
        "id": "RHVzW07Wf52V"
      },
      "source": [
        "# g)"
      ]
    },
    {
      "cell_type": "markdown",
      "metadata": {
        "id": "CMeXmo2ff7ZQ"
      },
      "source": [
        "Encryption. Since the data is encrypted and a secret key is used by both parties, the attacker cannot hijack the IP."
      ]
    },
    {
      "cell_type": "markdown",
      "metadata": {
        "id": "P4UzD4DlgW9D"
      },
      "source": [
        "# h)"
      ]
    },
    {
      "cell_type": "markdown",
      "metadata": {
        "id": "h6AdyMqGgYsM"
      },
      "source": [
        "SSL has not protection against this types of attacks."
      ]
    }
  ]
}
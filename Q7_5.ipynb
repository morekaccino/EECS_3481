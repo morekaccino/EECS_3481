{
  "nbformat": 4,
  "nbformat_minor": 0,
  "metadata": {
    "colab": {
      "name": "Q7_5.ipynb",
      "provenance": [],
      "authorship_tag": "ABX9TyO2keikV6psRCJA7fDl6dmj",
      "include_colab_link": true
    },
    "kernelspec": {
      "name": "python3",
      "display_name": "Python 3"
    }
  },
  "cells": [
    {
      "cell_type": "markdown",
      "metadata": {
        "id": "view-in-github",
        "colab_type": "text"
      },
      "source": [
        "<a href=\"https://colab.research.google.com/github/mowhamadrexa/EECS3481Assignments/blob/main/Q7_5.ipynb\" target=\"_parent\"><img src=\"https://colab.research.google.com/assets/colab-badge.svg\" alt=\"Open In Colab\"/></a>"
      ]
    },
    {
      "cell_type": "markdown",
      "metadata": {
        "id": "o1SNi80lfznN"
      },
      "source": [
        "No.<br>\n",
        "in CBC encryption and decryption, each step needs information from the previous step. eg $C_i$.\n",
        "Therefore, it is impossible to use threading in this situation as you wouldn't have the sufficient information to do the calculations."
      ]
    }
  ]
}
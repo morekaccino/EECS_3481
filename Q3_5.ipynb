{
  "nbformat": 4,
  "nbformat_minor": 0,
  "metadata": {
    "colab": {
      "name": "Q3.5.ipynb",
      "provenance": [],
      "authorship_tag": "ABX9TyOp6Ww0rABXIc9tGD0DBSVl",
      "include_colab_link": true
    },
    "kernelspec": {
      "name": "python3",
      "display_name": "Python 3"
    }
  },
  "cells": [
    {
      "cell_type": "markdown",
      "metadata": {
        "id": "view-in-github",
        "colab_type": "text"
      },
      "source": [
        "<a href=\"https://colab.research.google.com/github/mowhamadrexa/EECS3481Assignments/blob/main/Q3_5.ipynb\" target=\"_parent\"><img src=\"https://colab.research.google.com/assets/colab-badge.svg\" alt=\"Open In Colab\"/></a>"
      ]
    },
    {
      "cell_type": "code",
      "metadata": {
        "id": "nuSapuyjkfQI"
      },
      "source": [
        "from termcolor import colored"
      ],
      "execution_count": 8,
      "outputs": []
    },
    {
      "cell_type": "code",
      "metadata": {
        "id": "XrT9bYf4Lfm5"
      },
      "source": [
        "class Decode:\n",
        "  def __init__(self, cipher):\n",
        "    self.cipher = list(map(list, zip(cipher, [0]*len(cipher))))\n",
        "    self.solved_chars = []\n",
        "\n",
        "  def print(self):\n",
        "    to_print = \"\"\n",
        "    for i in self.cipher:\n",
        "      if i[1] == 1:\n",
        "        # print(colored(i[0], 'green'), end='')\n",
        "        to_print += colored(i[0], 'green')\n",
        "      else:\n",
        "        # print(colored(i[0], 'red'), end='')\n",
        "        to_print += colored(i[0], 'red')\n",
        "    print(to_print)\n",
        "\n",
        "  def replace(self, a, b):\n",
        "    self.solved_chars.append(b)\n",
        "    for i in self.cipher:\n",
        "      if i[1] == 0 and i[0] == a:\n",
        "        i[0] = b\n",
        "        i[1] = 1\n",
        "\n",
        "  def letter_freq(self):\n",
        "    letters = {}\n",
        "    for i in self.cipher:\n",
        "      if i[0] in letters:\n",
        "        letters[i[0]] += 1\n",
        "      else:\n",
        "        letters[i[0]] = 0\n",
        "    print(letters)\n",
        "\n",
        "  def getCipher(self):\n",
        "    c = \"\"\n",
        "    for i in self.cipher:\n",
        "      c = c + i[0]\n",
        "    return c"
      ],
      "execution_count": 2,
      "outputs": []
    },
    {
      "cell_type": "code",
      "metadata": {
        "id": "4vU9oznDkit4"
      },
      "source": [
        "c = '''SIDKHKDM AF HCRKIABIE SHIMC KD LFEAILA'''.lower()\n",
        "decode = Decode(c)\n",
        "alphabet = \"abcdefghijklmnopqrstuvwxyz\"\n",
        "k = \"The snow lay thick on the steps and the snowflakes driven by the wind looked black in the headlights of the cars\""
      ],
      "execution_count": 32,
      "outputs": []
    },
    {
      "cell_type": "code",
      "metadata": {
        "id": "fVxrRJMsIk0J",
        "outputId": "678eda5d-15c6-4bfe-c2b7-9a4ad47840fc",
        "colab": {
          "base_uri": "https://localhost:8080/",
          "height": 35
        }
      },
      "source": [
        "#remove space in k\n",
        "key = k.replace(' ','').lower()\n",
        "key"
      ],
      "execution_count": 33,
      "outputs": [
        {
          "output_type": "execute_result",
          "data": {
            "application/vnd.google.colaboratory.intrinsic+json": {
              "type": "string"
            },
            "text/plain": [
              "'thesnowlaythickonthestepsandthesnowflakesdrivenbythewindlookedblackintheheadlightsofthecars'"
            ]
          },
          "metadata": {
            "tags": []
          },
          "execution_count": 33
        }
      ]
    },
    {
      "cell_type": "code",
      "metadata": {
        "id": "ux2rMZjlKlQN",
        "outputId": "c595e117-268e-4364-91f1-3d7831d105d5",
        "colab": {
          "base_uri": "https://localhost:8080/",
          "height": 35
        }
      },
      "source": [
        "#remove repetitive letters from the key\n",
        "new_key = \"\"\n",
        "for i in range(len(key)):\n",
        "  if key[i] in new_key:\n",
        "    continue\n",
        "  else:\n",
        "    new_key += key[i]\n",
        "key = new_key\n",
        "key"
      ],
      "execution_count": 34,
      "outputs": [
        {
          "output_type": "execute_result",
          "data": {
            "application/vnd.google.colaboratory.intrinsic+json": {
              "type": "string"
            },
            "text/plain": [
              "'thesnowlayickpdfrvbg'"
            ]
          },
          "metadata": {
            "tags": []
          },
          "execution_count": 34
        }
      ]
    },
    {
      "cell_type": "code",
      "metadata": {
        "id": "Qx3G7iGUJAQH",
        "outputId": "a8eb1b61-5630-4d22-c9ea-6201942737fe",
        "colab": {
          "base_uri": "https://localhost:8080/"
        }
      },
      "source": [
        "i = 0\n",
        "print('replacing', alphabet[i], 'with', key[i])\n",
        "decode.replace(alphabet[i], key[i])\n",
        "decode.print()"
      ],
      "execution_count": 35,
      "outputs": [
        {
          "output_type": "stream",
          "text": [
            "replacing a with t\n",
            "\u001b[31ms\u001b[0m\u001b[31mi\u001b[0m\u001b[31md\u001b[0m\u001b[31mk\u001b[0m\u001b[31mh\u001b[0m\u001b[31mk\u001b[0m\u001b[31md\u001b[0m\u001b[31mm\u001b[0m\u001b[31m \u001b[0m\u001b[32mt\u001b[0m\u001b[31mf\u001b[0m\u001b[31m \u001b[0m\u001b[31mh\u001b[0m\u001b[31mc\u001b[0m\u001b[31mr\u001b[0m\u001b[31mk\u001b[0m\u001b[31mi\u001b[0m\u001b[32mt\u001b[0m\u001b[31mb\u001b[0m\u001b[31mi\u001b[0m\u001b[31me\u001b[0m\u001b[31m \u001b[0m\u001b[31ms\u001b[0m\u001b[31mh\u001b[0m\u001b[31mi\u001b[0m\u001b[31mm\u001b[0m\u001b[31mc\u001b[0m\u001b[31m \u001b[0m\u001b[31mk\u001b[0m\u001b[31md\u001b[0m\u001b[31m \u001b[0m\u001b[31ml\u001b[0m\u001b[31mf\u001b[0m\u001b[31me\u001b[0m\u001b[32mt\u001b[0m\u001b[31mi\u001b[0m\u001b[31ml\u001b[0m\u001b[32mt\u001b[0m\n"
          ],
          "name": "stdout"
        }
      ]
    },
    {
      "cell_type": "code",
      "metadata": {
        "id": "gZPfx-2PJF18",
        "outputId": "b6e57806-6634-4905-9eff-886819cab260",
        "colab": {
          "base_uri": "https://localhost:8080/"
        }
      },
      "source": [
        "i = 1\n",
        "print('replacing', alphabet[i], 'with', key[i])\n",
        "decode.replace(alphabet[i], key[i])\n",
        "decode.print()"
      ],
      "execution_count": 36,
      "outputs": [
        {
          "output_type": "stream",
          "text": [
            "replacing b with h\n",
            "\u001b[31ms\u001b[0m\u001b[31mi\u001b[0m\u001b[31md\u001b[0m\u001b[31mk\u001b[0m\u001b[31mh\u001b[0m\u001b[31mk\u001b[0m\u001b[31md\u001b[0m\u001b[31mm\u001b[0m\u001b[31m \u001b[0m\u001b[32mt\u001b[0m\u001b[31mf\u001b[0m\u001b[31m \u001b[0m\u001b[31mh\u001b[0m\u001b[31mc\u001b[0m\u001b[31mr\u001b[0m\u001b[31mk\u001b[0m\u001b[31mi\u001b[0m\u001b[32mt\u001b[0m\u001b[32mh\u001b[0m\u001b[31mi\u001b[0m\u001b[31me\u001b[0m\u001b[31m \u001b[0m\u001b[31ms\u001b[0m\u001b[31mh\u001b[0m\u001b[31mi\u001b[0m\u001b[31mm\u001b[0m\u001b[31mc\u001b[0m\u001b[31m \u001b[0m\u001b[31mk\u001b[0m\u001b[31md\u001b[0m\u001b[31m \u001b[0m\u001b[31ml\u001b[0m\u001b[31mf\u001b[0m\u001b[31me\u001b[0m\u001b[32mt\u001b[0m\u001b[31mi\u001b[0m\u001b[31ml\u001b[0m\u001b[32mt\u001b[0m\n"
          ],
          "name": "stdout"
        }
      ]
    },
    {
      "cell_type": "code",
      "metadata": {
        "id": "jE4nVqspJlvG",
        "outputId": "aa31a655-7746-43af-84ab-e90ec7f91f42",
        "colab": {
          "base_uri": "https://localhost:8080/"
        }
      },
      "source": [
        "i = 2\n",
        "print('replacing', alphabet[i], 'with', key[i])\n",
        "decode.replace(alphabet[i], key[i])\n",
        "decode.print()"
      ],
      "execution_count": 37,
      "outputs": [
        {
          "output_type": "stream",
          "text": [
            "replacing c with e\n",
            "\u001b[31ms\u001b[0m\u001b[31mi\u001b[0m\u001b[31md\u001b[0m\u001b[31mk\u001b[0m\u001b[31mh\u001b[0m\u001b[31mk\u001b[0m\u001b[31md\u001b[0m\u001b[31mm\u001b[0m\u001b[31m \u001b[0m\u001b[32mt\u001b[0m\u001b[31mf\u001b[0m\u001b[31m \u001b[0m\u001b[31mh\u001b[0m\u001b[32me\u001b[0m\u001b[31mr\u001b[0m\u001b[31mk\u001b[0m\u001b[31mi\u001b[0m\u001b[32mt\u001b[0m\u001b[32mh\u001b[0m\u001b[31mi\u001b[0m\u001b[31me\u001b[0m\u001b[31m \u001b[0m\u001b[31ms\u001b[0m\u001b[31mh\u001b[0m\u001b[31mi\u001b[0m\u001b[31mm\u001b[0m\u001b[32me\u001b[0m\u001b[31m \u001b[0m\u001b[31mk\u001b[0m\u001b[31md\u001b[0m\u001b[31m \u001b[0m\u001b[31ml\u001b[0m\u001b[31mf\u001b[0m\u001b[31me\u001b[0m\u001b[32mt\u001b[0m\u001b[31mi\u001b[0m\u001b[31ml\u001b[0m\u001b[32mt\u001b[0m\n"
          ],
          "name": "stdout"
        }
      ]
    },
    {
      "cell_type": "code",
      "metadata": {
        "id": "KzaHZdXyJqmq",
        "outputId": "2412e5cc-bb04-4741-b878-ea1927be0e81",
        "colab": {
          "base_uri": "https://localhost:8080/"
        }
      },
      "source": [
        "i = 3\n",
        "print('replacing', alphabet[i], 'with', key[i])\n",
        "decode.replace(alphabet[i], key[i])\n",
        "decode.print()"
      ],
      "execution_count": 38,
      "outputs": [
        {
          "output_type": "stream",
          "text": [
            "replacing d with s\n",
            "\u001b[31ms\u001b[0m\u001b[31mi\u001b[0m\u001b[32ms\u001b[0m\u001b[31mk\u001b[0m\u001b[31mh\u001b[0m\u001b[31mk\u001b[0m\u001b[32ms\u001b[0m\u001b[31mm\u001b[0m\u001b[31m \u001b[0m\u001b[32mt\u001b[0m\u001b[31mf\u001b[0m\u001b[31m \u001b[0m\u001b[31mh\u001b[0m\u001b[32me\u001b[0m\u001b[31mr\u001b[0m\u001b[31mk\u001b[0m\u001b[31mi\u001b[0m\u001b[32mt\u001b[0m\u001b[32mh\u001b[0m\u001b[31mi\u001b[0m\u001b[31me\u001b[0m\u001b[31m \u001b[0m\u001b[31ms\u001b[0m\u001b[31mh\u001b[0m\u001b[31mi\u001b[0m\u001b[31mm\u001b[0m\u001b[32me\u001b[0m\u001b[31m \u001b[0m\u001b[31mk\u001b[0m\u001b[32ms\u001b[0m\u001b[31m \u001b[0m\u001b[31ml\u001b[0m\u001b[31mf\u001b[0m\u001b[31me\u001b[0m\u001b[32mt\u001b[0m\u001b[31mi\u001b[0m\u001b[31ml\u001b[0m\u001b[32mt\u001b[0m\n"
          ],
          "name": "stdout"
        }
      ]
    },
    {
      "cell_type": "code",
      "metadata": {
        "id": "wffEprwZJx59",
        "outputId": "7fc96521-b88b-46c4-e29f-bc1047cf1c24",
        "colab": {
          "base_uri": "https://localhost:8080/"
        }
      },
      "source": [
        "i = 4\n",
        "print('replacing', alphabet[i], 'with', key[i])\n",
        "decode.replace(alphabet[i], key[i])\n",
        "decode.print()"
      ],
      "execution_count": 39,
      "outputs": [
        {
          "output_type": "stream",
          "text": [
            "replacing e with n\n",
            "\u001b[31ms\u001b[0m\u001b[31mi\u001b[0m\u001b[32ms\u001b[0m\u001b[31mk\u001b[0m\u001b[31mh\u001b[0m\u001b[31mk\u001b[0m\u001b[32ms\u001b[0m\u001b[31mm\u001b[0m\u001b[31m \u001b[0m\u001b[32mt\u001b[0m\u001b[31mf\u001b[0m\u001b[31m \u001b[0m\u001b[31mh\u001b[0m\u001b[32me\u001b[0m\u001b[31mr\u001b[0m\u001b[31mk\u001b[0m\u001b[31mi\u001b[0m\u001b[32mt\u001b[0m\u001b[32mh\u001b[0m\u001b[31mi\u001b[0m\u001b[32mn\u001b[0m\u001b[31m \u001b[0m\u001b[31ms\u001b[0m\u001b[31mh\u001b[0m\u001b[31mi\u001b[0m\u001b[31mm\u001b[0m\u001b[32me\u001b[0m\u001b[31m \u001b[0m\u001b[31mk\u001b[0m\u001b[32ms\u001b[0m\u001b[31m \u001b[0m\u001b[31ml\u001b[0m\u001b[31mf\u001b[0m\u001b[32mn\u001b[0m\u001b[32mt\u001b[0m\u001b[31mi\u001b[0m\u001b[31ml\u001b[0m\u001b[32mt\u001b[0m\n"
          ],
          "name": "stdout"
        }
      ]
    },
    {
      "cell_type": "code",
      "metadata": {
        "id": "CNJSQ7NfJ1Lp",
        "outputId": "0c4f5d54-8511-4c8d-8bd7-bce9c3dd89a1",
        "colab": {
          "base_uri": "https://localhost:8080/"
        }
      },
      "source": [
        "i = 5\n",
        "print('replacing', alphabet[i], 'with', key[i])\n",
        "decode.replace(alphabet[i], key[i])\n",
        "decode.print()"
      ],
      "execution_count": 40,
      "outputs": [
        {
          "output_type": "stream",
          "text": [
            "replacing f with o\n",
            "\u001b[31ms\u001b[0m\u001b[31mi\u001b[0m\u001b[32ms\u001b[0m\u001b[31mk\u001b[0m\u001b[31mh\u001b[0m\u001b[31mk\u001b[0m\u001b[32ms\u001b[0m\u001b[31mm\u001b[0m\u001b[31m \u001b[0m\u001b[32mt\u001b[0m\u001b[32mo\u001b[0m\u001b[31m \u001b[0m\u001b[31mh\u001b[0m\u001b[32me\u001b[0m\u001b[31mr\u001b[0m\u001b[31mk\u001b[0m\u001b[31mi\u001b[0m\u001b[32mt\u001b[0m\u001b[32mh\u001b[0m\u001b[31mi\u001b[0m\u001b[32mn\u001b[0m\u001b[31m \u001b[0m\u001b[31ms\u001b[0m\u001b[31mh\u001b[0m\u001b[31mi\u001b[0m\u001b[31mm\u001b[0m\u001b[32me\u001b[0m\u001b[31m \u001b[0m\u001b[31mk\u001b[0m\u001b[32ms\u001b[0m\u001b[31m \u001b[0m\u001b[31ml\u001b[0m\u001b[32mo\u001b[0m\u001b[32mn\u001b[0m\u001b[32mt\u001b[0m\u001b[31mi\u001b[0m\u001b[31ml\u001b[0m\u001b[32mt\u001b[0m\n"
          ],
          "name": "stdout"
        }
      ]
    },
    {
      "cell_type": "code",
      "metadata": {
        "id": "I7FtnYPZKDJ-",
        "outputId": "65a71f93-bfa9-4fc2-fe44-aae5546dd70b",
        "colab": {
          "base_uri": "https://localhost:8080/"
        }
      },
      "source": [
        "i = 6\n",
        "print('replacing', alphabet[i], 'with', key[i])\n",
        "decode.replace(alphabet[i], key[i])\n",
        "decode.print()"
      ],
      "execution_count": 41,
      "outputs": [
        {
          "output_type": "stream",
          "text": [
            "replacing g with w\n",
            "\u001b[31ms\u001b[0m\u001b[31mi\u001b[0m\u001b[32ms\u001b[0m\u001b[31mk\u001b[0m\u001b[31mh\u001b[0m\u001b[31mk\u001b[0m\u001b[32ms\u001b[0m\u001b[31mm\u001b[0m\u001b[31m \u001b[0m\u001b[32mt\u001b[0m\u001b[32mo\u001b[0m\u001b[31m \u001b[0m\u001b[31mh\u001b[0m\u001b[32me\u001b[0m\u001b[31mr\u001b[0m\u001b[31mk\u001b[0m\u001b[31mi\u001b[0m\u001b[32mt\u001b[0m\u001b[32mh\u001b[0m\u001b[31mi\u001b[0m\u001b[32mn\u001b[0m\u001b[31m \u001b[0m\u001b[31ms\u001b[0m\u001b[31mh\u001b[0m\u001b[31mi\u001b[0m\u001b[31mm\u001b[0m\u001b[32me\u001b[0m\u001b[31m \u001b[0m\u001b[31mk\u001b[0m\u001b[32ms\u001b[0m\u001b[31m \u001b[0m\u001b[31ml\u001b[0m\u001b[32mo\u001b[0m\u001b[32mn\u001b[0m\u001b[32mt\u001b[0m\u001b[31mi\u001b[0m\u001b[31ml\u001b[0m\u001b[32mt\u001b[0m\n"
          ],
          "name": "stdout"
        }
      ]
    },
    {
      "cell_type": "code",
      "metadata": {
        "id": "0x6c4VIkKJbG",
        "outputId": "ea826b78-e9aa-4bec-ef52-0ce0b8095a8b",
        "colab": {
          "base_uri": "https://localhost:8080/"
        }
      },
      "source": [
        "i = 7\n",
        "print('replacing', alphabet[i], 'with', key[i])\n",
        "decode.replace(alphabet[i], key[i])\n",
        "decode.print()"
      ],
      "execution_count": 42,
      "outputs": [
        {
          "output_type": "stream",
          "text": [
            "replacing h with l\n",
            "\u001b[31ms\u001b[0m\u001b[31mi\u001b[0m\u001b[32ms\u001b[0m\u001b[31mk\u001b[0m\u001b[32ml\u001b[0m\u001b[31mk\u001b[0m\u001b[32ms\u001b[0m\u001b[31mm\u001b[0m\u001b[31m \u001b[0m\u001b[32mt\u001b[0m\u001b[32mo\u001b[0m\u001b[31m \u001b[0m\u001b[32ml\u001b[0m\u001b[32me\u001b[0m\u001b[31mr\u001b[0m\u001b[31mk\u001b[0m\u001b[31mi\u001b[0m\u001b[32mt\u001b[0m\u001b[32mh\u001b[0m\u001b[31mi\u001b[0m\u001b[32mn\u001b[0m\u001b[31m \u001b[0m\u001b[31ms\u001b[0m\u001b[32ml\u001b[0m\u001b[31mi\u001b[0m\u001b[31mm\u001b[0m\u001b[32me\u001b[0m\u001b[31m \u001b[0m\u001b[31mk\u001b[0m\u001b[32ms\u001b[0m\u001b[31m \u001b[0m\u001b[31ml\u001b[0m\u001b[32mo\u001b[0m\u001b[32mn\u001b[0m\u001b[32mt\u001b[0m\u001b[31mi\u001b[0m\u001b[31ml\u001b[0m\u001b[32mt\u001b[0m\n"
          ],
          "name": "stdout"
        }
      ]
    },
    {
      "cell_type": "code",
      "metadata": {
        "id": "gr4R0y2nKOCO",
        "outputId": "a2f60c7a-decf-4cfc-a679-7eae54880019",
        "colab": {
          "base_uri": "https://localhost:8080/"
        }
      },
      "source": [
        "i = 8\n",
        "print('replacing', alphabet[i], 'with', key[i])\n",
        "decode.replace(alphabet[i], key[i])\n",
        "decode.print()"
      ],
      "execution_count": 43,
      "outputs": [
        {
          "output_type": "stream",
          "text": [
            "replacing i with a\n",
            "\u001b[31ms\u001b[0m\u001b[32ma\u001b[0m\u001b[32ms\u001b[0m\u001b[31mk\u001b[0m\u001b[32ml\u001b[0m\u001b[31mk\u001b[0m\u001b[32ms\u001b[0m\u001b[31mm\u001b[0m\u001b[31m \u001b[0m\u001b[32mt\u001b[0m\u001b[32mo\u001b[0m\u001b[31m \u001b[0m\u001b[32ml\u001b[0m\u001b[32me\u001b[0m\u001b[31mr\u001b[0m\u001b[31mk\u001b[0m\u001b[32ma\u001b[0m\u001b[32mt\u001b[0m\u001b[32mh\u001b[0m\u001b[32ma\u001b[0m\u001b[32mn\u001b[0m\u001b[31m \u001b[0m\u001b[31ms\u001b[0m\u001b[32ml\u001b[0m\u001b[32ma\u001b[0m\u001b[31mm\u001b[0m\u001b[32me\u001b[0m\u001b[31m \u001b[0m\u001b[31mk\u001b[0m\u001b[32ms\u001b[0m\u001b[31m \u001b[0m\u001b[31ml\u001b[0m\u001b[32mo\u001b[0m\u001b[32mn\u001b[0m\u001b[32mt\u001b[0m\u001b[32ma\u001b[0m\u001b[31ml\u001b[0m\u001b[32mt\u001b[0m\n"
          ],
          "name": "stdout"
        }
      ]
    },
    {
      "cell_type": "code",
      "metadata": {
        "id": "mQAifamiKRhZ",
        "outputId": "651f1f95-fc40-483f-81f0-8de3bd2a8e29",
        "colab": {
          "base_uri": "https://localhost:8080/"
        }
      },
      "source": [
        "i = 9\n",
        "print('replacing', alphabet[i], 'with', key[i])\n",
        "decode.replace(alphabet[i], key[i])\n",
        "decode.print()"
      ],
      "execution_count": 44,
      "outputs": [
        {
          "output_type": "stream",
          "text": [
            "replacing j with y\n",
            "\u001b[31ms\u001b[0m\u001b[32ma\u001b[0m\u001b[32ms\u001b[0m\u001b[31mk\u001b[0m\u001b[32ml\u001b[0m\u001b[31mk\u001b[0m\u001b[32ms\u001b[0m\u001b[31mm\u001b[0m\u001b[31m \u001b[0m\u001b[32mt\u001b[0m\u001b[32mo\u001b[0m\u001b[31m \u001b[0m\u001b[32ml\u001b[0m\u001b[32me\u001b[0m\u001b[31mr\u001b[0m\u001b[31mk\u001b[0m\u001b[32ma\u001b[0m\u001b[32mt\u001b[0m\u001b[32mh\u001b[0m\u001b[32ma\u001b[0m\u001b[32mn\u001b[0m\u001b[31m \u001b[0m\u001b[31ms\u001b[0m\u001b[32ml\u001b[0m\u001b[32ma\u001b[0m\u001b[31mm\u001b[0m\u001b[32me\u001b[0m\u001b[31m \u001b[0m\u001b[31mk\u001b[0m\u001b[32ms\u001b[0m\u001b[31m \u001b[0m\u001b[31ml\u001b[0m\u001b[32mo\u001b[0m\u001b[32mn\u001b[0m\u001b[32mt\u001b[0m\u001b[32ma\u001b[0m\u001b[31ml\u001b[0m\u001b[32mt\u001b[0m\n"
          ],
          "name": "stdout"
        }
      ]
    },
    {
      "cell_type": "code",
      "metadata": {
        "id": "VYOsc-_iKUAX",
        "outputId": "daf5a89e-c592-4547-9357-1b4a3adbbc63",
        "colab": {
          "base_uri": "https://localhost:8080/"
        }
      },
      "source": [
        "i = 10\n",
        "print('replacing', alphabet[i], 'with', key[i])\n",
        "decode.replace(alphabet[i], key[i])\n",
        "decode.print()"
      ],
      "execution_count": 45,
      "outputs": [
        {
          "output_type": "stream",
          "text": [
            "replacing k with i\n",
            "\u001b[31ms\u001b[0m\u001b[32ma\u001b[0m\u001b[32ms\u001b[0m\u001b[32mi\u001b[0m\u001b[32ml\u001b[0m\u001b[32mi\u001b[0m\u001b[32ms\u001b[0m\u001b[31mm\u001b[0m\u001b[31m \u001b[0m\u001b[32mt\u001b[0m\u001b[32mo\u001b[0m\u001b[31m \u001b[0m\u001b[32ml\u001b[0m\u001b[32me\u001b[0m\u001b[31mr\u001b[0m\u001b[32mi\u001b[0m\u001b[32ma\u001b[0m\u001b[32mt\u001b[0m\u001b[32mh\u001b[0m\u001b[32ma\u001b[0m\u001b[32mn\u001b[0m\u001b[31m \u001b[0m\u001b[31ms\u001b[0m\u001b[32ml\u001b[0m\u001b[32ma\u001b[0m\u001b[31mm\u001b[0m\u001b[32me\u001b[0m\u001b[31m \u001b[0m\u001b[32mi\u001b[0m\u001b[32ms\u001b[0m\u001b[31m \u001b[0m\u001b[31ml\u001b[0m\u001b[32mo\u001b[0m\u001b[32mn\u001b[0m\u001b[32mt\u001b[0m\u001b[32ma\u001b[0m\u001b[31ml\u001b[0m\u001b[32mt\u001b[0m\n"
          ],
          "name": "stdout"
        }
      ]
    },
    {
      "cell_type": "code",
      "metadata": {
        "id": "FUyNK2OxLtaL",
        "outputId": "87d424bd-8513-4db8-c482-d57909226b71",
        "colab": {
          "base_uri": "https://localhost:8080/"
        }
      },
      "source": [
        "i = 11\n",
        "print('replacing', alphabet[i], 'with', key[i])\n",
        "decode.replace(alphabet[i], key[i])\n",
        "decode.print()"
      ],
      "execution_count": 46,
      "outputs": [
        {
          "output_type": "stream",
          "text": [
            "replacing l with c\n",
            "\u001b[31ms\u001b[0m\u001b[32ma\u001b[0m\u001b[32ms\u001b[0m\u001b[32mi\u001b[0m\u001b[32ml\u001b[0m\u001b[32mi\u001b[0m\u001b[32ms\u001b[0m\u001b[31mm\u001b[0m\u001b[31m \u001b[0m\u001b[32mt\u001b[0m\u001b[32mo\u001b[0m\u001b[31m \u001b[0m\u001b[32ml\u001b[0m\u001b[32me\u001b[0m\u001b[31mr\u001b[0m\u001b[32mi\u001b[0m\u001b[32ma\u001b[0m\u001b[32mt\u001b[0m\u001b[32mh\u001b[0m\u001b[32ma\u001b[0m\u001b[32mn\u001b[0m\u001b[31m \u001b[0m\u001b[31ms\u001b[0m\u001b[32ml\u001b[0m\u001b[32ma\u001b[0m\u001b[31mm\u001b[0m\u001b[32me\u001b[0m\u001b[31m \u001b[0m\u001b[32mi\u001b[0m\u001b[32ms\u001b[0m\u001b[31m \u001b[0m\u001b[32mc\u001b[0m\u001b[32mo\u001b[0m\u001b[32mn\u001b[0m\u001b[32mt\u001b[0m\u001b[32ma\u001b[0m\u001b[32mc\u001b[0m\u001b[32mt\u001b[0m\n"
          ],
          "name": "stdout"
        }
      ]
    },
    {
      "cell_type": "code",
      "metadata": {
        "id": "E3wPCyylLwHv",
        "outputId": "69750ffd-b3da-4a22-838d-03fc5dabe22c",
        "colab": {
          "base_uri": "https://localhost:8080/"
        }
      },
      "source": [
        "i = 12\n",
        "print('replacing', alphabet[i], 'with', key[i])\n",
        "decode.replace(alphabet[i], key[i])\n",
        "decode.print()"
      ],
      "execution_count": 47,
      "outputs": [
        {
          "output_type": "stream",
          "text": [
            "replacing m with k\n",
            "\u001b[31ms\u001b[0m\u001b[32ma\u001b[0m\u001b[32ms\u001b[0m\u001b[32mi\u001b[0m\u001b[32ml\u001b[0m\u001b[32mi\u001b[0m\u001b[32ms\u001b[0m\u001b[32mk\u001b[0m\u001b[31m \u001b[0m\u001b[32mt\u001b[0m\u001b[32mo\u001b[0m\u001b[31m \u001b[0m\u001b[32ml\u001b[0m\u001b[32me\u001b[0m\u001b[31mr\u001b[0m\u001b[32mi\u001b[0m\u001b[32ma\u001b[0m\u001b[32mt\u001b[0m\u001b[32mh\u001b[0m\u001b[32ma\u001b[0m\u001b[32mn\u001b[0m\u001b[31m \u001b[0m\u001b[31ms\u001b[0m\u001b[32ml\u001b[0m\u001b[32ma\u001b[0m\u001b[32mk\u001b[0m\u001b[32me\u001b[0m\u001b[31m \u001b[0m\u001b[32mi\u001b[0m\u001b[32ms\u001b[0m\u001b[31m \u001b[0m\u001b[32mc\u001b[0m\u001b[32mo\u001b[0m\u001b[32mn\u001b[0m\u001b[32mt\u001b[0m\u001b[32ma\u001b[0m\u001b[32mc\u001b[0m\u001b[32mt\u001b[0m\n"
          ],
          "name": "stdout"
        }
      ]
    },
    {
      "cell_type": "code",
      "metadata": {
        "id": "MiyVUk56Lz0Q",
        "outputId": "3fd81b7e-1551-4608-92b0-425af9244155",
        "colab": {
          "base_uri": "https://localhost:8080/"
        }
      },
      "source": [
        "i = 13\n",
        "print('replacing', alphabet[i], 'with', key[i])\n",
        "decode.replace(alphabet[i], key[i])\n",
        "decode.print()"
      ],
      "execution_count": 48,
      "outputs": [
        {
          "output_type": "stream",
          "text": [
            "replacing n with p\n",
            "\u001b[31ms\u001b[0m\u001b[32ma\u001b[0m\u001b[32ms\u001b[0m\u001b[32mi\u001b[0m\u001b[32ml\u001b[0m\u001b[32mi\u001b[0m\u001b[32ms\u001b[0m\u001b[32mk\u001b[0m\u001b[31m \u001b[0m\u001b[32mt\u001b[0m\u001b[32mo\u001b[0m\u001b[31m \u001b[0m\u001b[32ml\u001b[0m\u001b[32me\u001b[0m\u001b[31mr\u001b[0m\u001b[32mi\u001b[0m\u001b[32ma\u001b[0m\u001b[32mt\u001b[0m\u001b[32mh\u001b[0m\u001b[32ma\u001b[0m\u001b[32mn\u001b[0m\u001b[31m \u001b[0m\u001b[31ms\u001b[0m\u001b[32ml\u001b[0m\u001b[32ma\u001b[0m\u001b[32mk\u001b[0m\u001b[32me\u001b[0m\u001b[31m \u001b[0m\u001b[32mi\u001b[0m\u001b[32ms\u001b[0m\u001b[31m \u001b[0m\u001b[32mc\u001b[0m\u001b[32mo\u001b[0m\u001b[32mn\u001b[0m\u001b[32mt\u001b[0m\u001b[32ma\u001b[0m\u001b[32mc\u001b[0m\u001b[32mt\u001b[0m\n"
          ],
          "name": "stdout"
        }
      ]
    },
    {
      "cell_type": "code",
      "metadata": {
        "id": "jenbGWqJL2TY",
        "outputId": "6b77915a-28e3-4fff-f876-b2159c782cba",
        "colab": {
          "base_uri": "https://localhost:8080/"
        }
      },
      "source": [
        "i = 14\n",
        "print('replacing', alphabet[i], 'with', key[i])\n",
        "decode.replace(alphabet[i], key[i])\n",
        "decode.print()"
      ],
      "execution_count": 49,
      "outputs": [
        {
          "output_type": "stream",
          "text": [
            "replacing o with d\n",
            "\u001b[31ms\u001b[0m\u001b[32ma\u001b[0m\u001b[32ms\u001b[0m\u001b[32mi\u001b[0m\u001b[32ml\u001b[0m\u001b[32mi\u001b[0m\u001b[32ms\u001b[0m\u001b[32mk\u001b[0m\u001b[31m \u001b[0m\u001b[32mt\u001b[0m\u001b[32mo\u001b[0m\u001b[31m \u001b[0m\u001b[32ml\u001b[0m\u001b[32me\u001b[0m\u001b[31mr\u001b[0m\u001b[32mi\u001b[0m\u001b[32ma\u001b[0m\u001b[32mt\u001b[0m\u001b[32mh\u001b[0m\u001b[32ma\u001b[0m\u001b[32mn\u001b[0m\u001b[31m \u001b[0m\u001b[31ms\u001b[0m\u001b[32ml\u001b[0m\u001b[32ma\u001b[0m\u001b[32mk\u001b[0m\u001b[32me\u001b[0m\u001b[31m \u001b[0m\u001b[32mi\u001b[0m\u001b[32ms\u001b[0m\u001b[31m \u001b[0m\u001b[32mc\u001b[0m\u001b[32mo\u001b[0m\u001b[32mn\u001b[0m\u001b[32mt\u001b[0m\u001b[32ma\u001b[0m\u001b[32mc\u001b[0m\u001b[32mt\u001b[0m\n"
          ],
          "name": "stdout"
        }
      ]
    },
    {
      "cell_type": "code",
      "metadata": {
        "id": "eAZKTQVdL4jB",
        "outputId": "e766d5d2-95d5-4c2e-afd1-35f0896f747e",
        "colab": {
          "base_uri": "https://localhost:8080/"
        }
      },
      "source": [
        "i = 15\n",
        "print('replacing', alphabet[i], 'with', key[i])\n",
        "decode.replace(alphabet[i], key[i])\n",
        "decode.print()"
      ],
      "execution_count": 50,
      "outputs": [
        {
          "output_type": "stream",
          "text": [
            "replacing p with f\n",
            "\u001b[31ms\u001b[0m\u001b[32ma\u001b[0m\u001b[32ms\u001b[0m\u001b[32mi\u001b[0m\u001b[32ml\u001b[0m\u001b[32mi\u001b[0m\u001b[32ms\u001b[0m\u001b[32mk\u001b[0m\u001b[31m \u001b[0m\u001b[32mt\u001b[0m\u001b[32mo\u001b[0m\u001b[31m \u001b[0m\u001b[32ml\u001b[0m\u001b[32me\u001b[0m\u001b[31mr\u001b[0m\u001b[32mi\u001b[0m\u001b[32ma\u001b[0m\u001b[32mt\u001b[0m\u001b[32mh\u001b[0m\u001b[32ma\u001b[0m\u001b[32mn\u001b[0m\u001b[31m \u001b[0m\u001b[31ms\u001b[0m\u001b[32ml\u001b[0m\u001b[32ma\u001b[0m\u001b[32mk\u001b[0m\u001b[32me\u001b[0m\u001b[31m \u001b[0m\u001b[32mi\u001b[0m\u001b[32ms\u001b[0m\u001b[31m \u001b[0m\u001b[32mc\u001b[0m\u001b[32mo\u001b[0m\u001b[32mn\u001b[0m\u001b[32mt\u001b[0m\u001b[32ma\u001b[0m\u001b[32mc\u001b[0m\u001b[32mt\u001b[0m\n"
          ],
          "name": "stdout"
        }
      ]
    },
    {
      "cell_type": "code",
      "metadata": {
        "id": "KtEXnEfdL6Dq",
        "outputId": "727664a5-dd8c-4109-eae1-c30301f90f26",
        "colab": {
          "base_uri": "https://localhost:8080/"
        }
      },
      "source": [
        "i = 16\n",
        "print('replacing', alphabet[i], 'with', key[i])\n",
        "decode.replace(alphabet[i], key[i])\n",
        "decode.print()"
      ],
      "execution_count": 51,
      "outputs": [
        {
          "output_type": "stream",
          "text": [
            "replacing q with r\n",
            "\u001b[31ms\u001b[0m\u001b[32ma\u001b[0m\u001b[32ms\u001b[0m\u001b[32mi\u001b[0m\u001b[32ml\u001b[0m\u001b[32mi\u001b[0m\u001b[32ms\u001b[0m\u001b[32mk\u001b[0m\u001b[31m \u001b[0m\u001b[32mt\u001b[0m\u001b[32mo\u001b[0m\u001b[31m \u001b[0m\u001b[32ml\u001b[0m\u001b[32me\u001b[0m\u001b[31mr\u001b[0m\u001b[32mi\u001b[0m\u001b[32ma\u001b[0m\u001b[32mt\u001b[0m\u001b[32mh\u001b[0m\u001b[32ma\u001b[0m\u001b[32mn\u001b[0m\u001b[31m \u001b[0m\u001b[31ms\u001b[0m\u001b[32ml\u001b[0m\u001b[32ma\u001b[0m\u001b[32mk\u001b[0m\u001b[32me\u001b[0m\u001b[31m \u001b[0m\u001b[32mi\u001b[0m\u001b[32ms\u001b[0m\u001b[31m \u001b[0m\u001b[32mc\u001b[0m\u001b[32mo\u001b[0m\u001b[32mn\u001b[0m\u001b[32mt\u001b[0m\u001b[32ma\u001b[0m\u001b[32mc\u001b[0m\u001b[32mt\u001b[0m\n"
          ],
          "name": "stdout"
        }
      ]
    },
    {
      "cell_type": "code",
      "metadata": {
        "id": "hlMcQmpfL73Z",
        "outputId": "ea4bf21b-2c22-46b1-a069-24b3b538e904",
        "colab": {
          "base_uri": "https://localhost:8080/"
        }
      },
      "source": [
        "i = 17\n",
        "print('replacing', alphabet[i], 'with', key[i])\n",
        "decode.replace(alphabet[i], key[i])\n",
        "decode.print()"
      ],
      "execution_count": 52,
      "outputs": [
        {
          "output_type": "stream",
          "text": [
            "replacing r with v\n",
            "\u001b[31ms\u001b[0m\u001b[32ma\u001b[0m\u001b[32ms\u001b[0m\u001b[32mi\u001b[0m\u001b[32ml\u001b[0m\u001b[32mi\u001b[0m\u001b[32ms\u001b[0m\u001b[32mk\u001b[0m\u001b[31m \u001b[0m\u001b[32mt\u001b[0m\u001b[32mo\u001b[0m\u001b[31m \u001b[0m\u001b[32ml\u001b[0m\u001b[32me\u001b[0m\u001b[32mv\u001b[0m\u001b[32mi\u001b[0m\u001b[32ma\u001b[0m\u001b[32mt\u001b[0m\u001b[32mh\u001b[0m\u001b[32ma\u001b[0m\u001b[32mn\u001b[0m\u001b[31m \u001b[0m\u001b[31ms\u001b[0m\u001b[32ml\u001b[0m\u001b[32ma\u001b[0m\u001b[32mk\u001b[0m\u001b[32me\u001b[0m\u001b[31m \u001b[0m\u001b[32mi\u001b[0m\u001b[32ms\u001b[0m\u001b[31m \u001b[0m\u001b[32mc\u001b[0m\u001b[32mo\u001b[0m\u001b[32mn\u001b[0m\u001b[32mt\u001b[0m\u001b[32ma\u001b[0m\u001b[32mc\u001b[0m\u001b[32mt\u001b[0m\n"
          ],
          "name": "stdout"
        }
      ]
    },
    {
      "cell_type": "code",
      "metadata": {
        "id": "BLLdK7RpL_OF",
        "outputId": "6a6a3acf-277e-4f32-dabc-8ef44bb49c68",
        "colab": {
          "base_uri": "https://localhost:8080/"
        }
      },
      "source": [
        "i = 18\n",
        "print('replacing', alphabet[i], 'with', key[i])\n",
        "decode.replace(alphabet[i], key[i])\n",
        "decode.print()"
      ],
      "execution_count": 53,
      "outputs": [
        {
          "output_type": "stream",
          "text": [
            "replacing s with b\n",
            "\u001b[32mb\u001b[0m\u001b[32ma\u001b[0m\u001b[32ms\u001b[0m\u001b[32mi\u001b[0m\u001b[32ml\u001b[0m\u001b[32mi\u001b[0m\u001b[32ms\u001b[0m\u001b[32mk\u001b[0m\u001b[31m \u001b[0m\u001b[32mt\u001b[0m\u001b[32mo\u001b[0m\u001b[31m \u001b[0m\u001b[32ml\u001b[0m\u001b[32me\u001b[0m\u001b[32mv\u001b[0m\u001b[32mi\u001b[0m\u001b[32ma\u001b[0m\u001b[32mt\u001b[0m\u001b[32mh\u001b[0m\u001b[32ma\u001b[0m\u001b[32mn\u001b[0m\u001b[31m \u001b[0m\u001b[32mb\u001b[0m\u001b[32ml\u001b[0m\u001b[32ma\u001b[0m\u001b[32mk\u001b[0m\u001b[32me\u001b[0m\u001b[31m \u001b[0m\u001b[32mi\u001b[0m\u001b[32ms\u001b[0m\u001b[31m \u001b[0m\u001b[32mc\u001b[0m\u001b[32mo\u001b[0m\u001b[32mn\u001b[0m\u001b[32mt\u001b[0m\u001b[32ma\u001b[0m\u001b[32mc\u001b[0m\u001b[32mt\u001b[0m\n"
          ],
          "name": "stdout"
        }
      ]
    }
  ]
}
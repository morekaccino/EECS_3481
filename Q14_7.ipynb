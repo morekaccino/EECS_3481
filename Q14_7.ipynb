{
  "nbformat": 4,
  "nbformat_minor": 0,
  "metadata": {
    "colab": {
      "name": "Q14_7.ipynb",
      "provenance": [],
      "authorship_tag": "ABX9TyMFKdnsZMI2BvBYeTHlzBCv",
      "include_colab_link": true
    },
    "kernelspec": {
      "name": "python3",
      "display_name": "Python 3"
    }
  },
  "cells": [
    {
      "cell_type": "markdown",
      "metadata": {
        "id": "view-in-github",
        "colab_type": "text"
      },
      "source": [
        "<a href=\"https://colab.research.google.com/github/mowhamadrexa/EECS3481Assignments/blob/main/Q14_7.ipynb\" target=\"_parent\"><img src=\"https://colab.research.google.com/assets/colab-badge.svg\" alt=\"Open In Colab\"/></a>"
      ]
    },
    {
      "cell_type": "markdown",
      "metadata": {
        "id": "ppuijQApZVSc"
      },
      "source": [
        "RFC 4949 (Internet Security Glossary) defines public-key infrastructure (PKI) as\n",
        "the set of hardware, software, people, policies, and procedures needed to create,\n",
        "manage, store, distribute, and revoke digital certificates based on asymmetric\n",
        "cryptography.<br>\n",
        "\n",
        "answer taken from the textbook page 468"
      ]
    },
    {
      "cell_type": "markdown",
      "metadata": {
        "id": "OuKpuWs6lyVD"
      },
      "source": [
        "Two CAs exchange information used in establishing a\n",
        "cross-certificate. A cross-certificate is a certificate issued by one CA to another\n",
        "CA that contains a CA signature key used for issuing certificates.\n",
        "\n",
        "answer taken from the textbook page 469"
      ]
    }
  ]
}
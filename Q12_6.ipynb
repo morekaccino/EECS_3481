{
  "nbformat": 4,
  "nbformat_minor": 0,
  "metadata": {
    "colab": {
      "name": "Q12_6.ipynb",
      "provenance": [],
      "authorship_tag": "ABX9TyOvq2DH0loAguqStgoYuR0R",
      "include_colab_link": true
    },
    "kernelspec": {
      "name": "python3",
      "display_name": "Python 3"
    }
  },
  "cells": [
    {
      "cell_type": "markdown",
      "metadata": {
        "id": "view-in-github",
        "colab_type": "text"
      },
      "source": [
        "<a href=\"https://colab.research.google.com/github/mowhamadrexa/EECS3481Assignments/blob/main/Q12_6.ipynb\" target=\"_parent\"><img src=\"https://colab.research.google.com/assets/colab-badge.svg\" alt=\"Open In Colab\"/></a>"
      ]
    },
    {
      "cell_type": "markdown",
      "metadata": {
        "id": "dv5wQNsaxUpu"
      },
      "source": [
        "# a)"
      ]
    },
    {
      "cell_type": "markdown",
      "metadata": {
        "id": "Wrr243FhxWQp"
      },
      "source": [
        "$$H\\to E$$\n",
        "$$E\\to A$$\n",
        "$$E + A$$"
      ]
    },
    {
      "cell_type": "markdown",
      "metadata": {
        "id": "sQB5Zj2Kxr5y"
      },
      "source": [
        "# b)"
      ]
    },
    {
      "cell_type": "markdown",
      "metadata": {
        "id": "EwJaMt0WxtW5"
      },
      "source": [
        "$$A\\to E$$"
      ]
    }
  ]
}
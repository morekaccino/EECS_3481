{
  "nbformat": 4,
  "nbformat_minor": 0,
  "metadata": {
    "colab": {
      "name": "Q15_8.ipynb",
      "provenance": [],
      "collapsed_sections": [],
      "authorship_tag": "ABX9TyPvO4S4iRISVrbigNh3fT2d",
      "include_colab_link": true
    },
    "kernelspec": {
      "name": "python3",
      "display_name": "Python 3"
    }
  },
  "cells": [
    {
      "cell_type": "markdown",
      "metadata": {
        "id": "view-in-github",
        "colab_type": "text"
      },
      "source": [
        "<a href=\"https://colab.research.google.com/github/mowhamadrexa/EECS3481Assignments/blob/main/Q15_8.ipynb\" target=\"_parent\"><img src=\"https://colab.research.google.com/assets/colab-badge.svg\" alt=\"Open In Colab\"/></a>"
      ]
    },
    {
      "cell_type": "markdown",
      "metadata": {
        "id": "na0fyCzD-WYI"
      },
      "source": [
        "# a)"
      ]
    },
    {
      "cell_type": "markdown",
      "metadata": {
        "id": "D8lRYL6j-X4k"
      },
      "source": [
        "This is a means of authenticating A to B.<br>\n",
        "R1 serves as a challenge, and only A is able to encrypt R1 so that it can be decrypted with A's public key."
      ]
    },
    {
      "cell_type": "markdown",
      "metadata": {
        "id": "WRLlhnKsEeUm"
      },
      "source": [
        "# b)"
      ]
    },
    {
      "cell_type": "markdown",
      "metadata": {
        "id": "JR1QbEHeEfsl"
      },
      "source": [
        "An attacker can use this mechanism to get A to sign a message. Then, the attacker can send the signed messages by A to another party, and claim that it was send by A.<br>\n",
        "Host A should not use public or private key for both authentication and signatures."
      ]
    }
  ]
}
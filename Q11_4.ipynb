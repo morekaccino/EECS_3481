{
  "nbformat": 4,
  "nbformat_minor": 0,
  "metadata": {
    "colab": {
      "name": "Q11_4.ipynb",
      "provenance": [],
      "authorship_tag": "ABX9TyMATchAunWGVOQh9JueLvTr",
      "include_colab_link": true
    },
    "kernelspec": {
      "name": "python3",
      "display_name": "Python 3"
    }
  },
  "cells": [
    {
      "cell_type": "markdown",
      "metadata": {
        "id": "view-in-github",
        "colab_type": "text"
      },
      "source": [
        "<a href=\"https://colab.research.google.com/github/mowhamadrexa/EECS3481Assignments/blob/main/Q11_4.ipynb\" target=\"_parent\"><img src=\"https://colab.research.google.com/assets/colab-badge.svg\" alt=\"Open In Colab\"/></a>"
      ]
    },
    {
      "cell_type": "markdown",
      "metadata": {
        "id": "Lx37tqJNNoIj"
      },
      "source": [
        "One round of DES can be described as:<br>\n",
        "1- $L_{i}=R_{i-1}$<br>\n",
        "2- $R_{i}=L_{i-1} \\oplus F(R_{i-1},K_{i})$<br>\n",
        "<br>\n",
        "Now, let's focus on the function $F$. As we studied it, it maps its input to a 32-bit output.<br>\n",
        "We don't use a reverse function for $F$ in the entire process of encryption and decryption in DES. So we can replace the function F, with any hash function that maps the inputs, $K, R$, to some 32-bit output. So we'd have:<br>\n",
        "1- $L_{i}=R_{i-1}$<br>\n",
        "2- $R_{i}=L_{i-1} \\oplus Hash(R_{i-1},K_{i})$"
      ]
    }
  ]
}
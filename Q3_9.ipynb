{
  "nbformat": 4,
  "nbformat_minor": 0,
  "metadata": {
    "colab": {
      "name": "Q3.9.ipynb",
      "provenance": [],
      "authorship_tag": "ABX9TyMpKQNUlx+6i/IxZ0exbRJv",
      "include_colab_link": true
    },
    "kernelspec": {
      "name": "python3",
      "display_name": "Python 3"
    }
  },
  "cells": [
    {
      "cell_type": "markdown",
      "metadata": {
        "id": "view-in-github",
        "colab_type": "text"
      },
      "source": [
        "<a href=\"https://colab.research.google.com/github/mowhamadrexa/EECS3481Assignments/blob/main/Q3_9.ipynb\" target=\"_parent\"><img src=\"https://colab.research.google.com/assets/colab-badge.svg\" alt=\"Open In Colab\"/></a>"
      ]
    },
    {
      "cell_type": "markdown",
      "metadata": {
        "id": "4vU9oznDkit4"
      },
      "source": [
        "### key = \"**royal new zealand navy**\" becomes \"**ROYALNEWZDV**\" by deleting repetitive alphabets"
      ]
    },
    {
      "cell_type": "code",
      "metadata": {
        "id": "fVxrRJMsIk0J",
        "outputId": "536a9017-fd86-4d7a-bbe1-3fd41c908e79",
        "colab": {
          "base_uri": "https://localhost:8080/",
          "height": 35
        }
      },
      "source": [
        "#remove space in k\n",
        "key = k.replace(' ','').lower()\n",
        "key"
      ],
      "execution_count": null,
      "outputs": [
        {
          "output_type": "execute_result",
          "data": {
            "application/vnd.google.colaboratory.intrinsic+json": {
              "type": "string"
            },
            "text/plain": [
              "'royalnewzealandnavy'"
            ]
          },
          "metadata": {
            "tags": []
          },
          "execution_count": 4
        }
      ]
    },
    {
      "cell_type": "code",
      "metadata": {
        "id": "5a0tfTVUuwRk",
        "outputId": "1284c86c-9ca6-4b8b-b77e-2183e0cdb6cf",
        "colab": {
          "base_uri": "https://localhost:8080/",
          "height": 204
        }
      },
      "source": [
        "pad = \"\"\"ROYAL\n",
        "NEWZD\n",
        "VBCFG\n",
        "HIKMP\n",
        "QSTUX\"\"\"\n",
        "import pandas as pd\n",
        "# circle = pd.DataFrame()\n",
        "circle = []\n",
        "for row in pad.split('\\n'):\n",
        "  circle.append(list(row))\n",
        "\n",
        "circle = pd.DataFrame(circle,)\n",
        "circle.index += 1\n",
        "circle.columns += 1\n",
        "circle"
      ],
      "execution_count": 16,
      "outputs": [
        {
          "output_type": "execute_result",
          "data": {
            "text/html": [
              "<div>\n",
              "<style scoped>\n",
              "    .dataframe tbody tr th:only-of-type {\n",
              "        vertical-align: middle;\n",
              "    }\n",
              "\n",
              "    .dataframe tbody tr th {\n",
              "        vertical-align: top;\n",
              "    }\n",
              "\n",
              "    .dataframe thead th {\n",
              "        text-align: right;\n",
              "    }\n",
              "</style>\n",
              "<table border=\"1\" class=\"dataframe\">\n",
              "  <thead>\n",
              "    <tr style=\"text-align: right;\">\n",
              "      <th></th>\n",
              "      <th>1</th>\n",
              "      <th>2</th>\n",
              "      <th>3</th>\n",
              "      <th>4</th>\n",
              "      <th>5</th>\n",
              "    </tr>\n",
              "  </thead>\n",
              "  <tbody>\n",
              "    <tr>\n",
              "      <th>1</th>\n",
              "      <td>R</td>\n",
              "      <td>O</td>\n",
              "      <td>Y</td>\n",
              "      <td>A</td>\n",
              "      <td>L</td>\n",
              "    </tr>\n",
              "    <tr>\n",
              "      <th>2</th>\n",
              "      <td>N</td>\n",
              "      <td>E</td>\n",
              "      <td>W</td>\n",
              "      <td>Z</td>\n",
              "      <td>D</td>\n",
              "    </tr>\n",
              "    <tr>\n",
              "      <th>3</th>\n",
              "      <td>V</td>\n",
              "      <td>B</td>\n",
              "      <td>C</td>\n",
              "      <td>F</td>\n",
              "      <td>G</td>\n",
              "    </tr>\n",
              "    <tr>\n",
              "      <th>4</th>\n",
              "      <td>H</td>\n",
              "      <td>I</td>\n",
              "      <td>K</td>\n",
              "      <td>M</td>\n",
              "      <td>P</td>\n",
              "    </tr>\n",
              "    <tr>\n",
              "      <th>5</th>\n",
              "      <td>Q</td>\n",
              "      <td>S</td>\n",
              "      <td>T</td>\n",
              "      <td>U</td>\n",
              "      <td>X</td>\n",
              "    </tr>\n",
              "  </tbody>\n",
              "</table>\n",
              "</div>"
            ],
            "text/plain": [
              "   1  2  3  4  5\n",
              "1  R  O  Y  A  L\n",
              "2  N  E  W  Z  D\n",
              "3  V  B  C  F  G\n",
              "4  H  I  K  M  P\n",
              "5  Q  S  T  U  X"
            ]
          },
          "metadata": {
            "tags": []
          },
          "execution_count": 16
        }
      ]
    },
    {
      "cell_type": "code",
      "metadata": {
        "id": "YRwER_O_yWex"
      },
      "source": [
        "cipher = \"KXJEYUREBEZWEHEWRYTUHEYFSKREHEGOYFIWTTTUOLKSYCAJPOBOTEIZONTXBYBNTGONEYCUZWRGDSONSXBOUYWRHEBAAHYUSEDQ\""
      ],
      "execution_count": 30,
      "outputs": []
    },
    {
      "cell_type": "markdown",
      "metadata": {
        "id": "ezbMBce2z6sz"
      },
      "source": [
        "### We decipher it using the these rules: (Taken from WIKIpedia)\n",
        "\n",
        "1. If both letters are the same (or only one letter is left), add an \"X\" after the first letter. Encrypt the new pair and continue. Some variants of Playfair use \"Q\" instead of \"X\", but any letter, itself uncommon as a repeated pair, will do.\n",
        "2. If the letters appear on the same row of your table, replace them with the letters to their immediate right respectively (wrapping around to the left side of the row if a letter in the original pair was on the right side of the row).\n",
        "3. If the letters appear on the same column of your table, replace them with the letters immediately below respectively (wrapping around to the top side of the column if a letter in the original pair was on the bottom side of the column).\n",
        "4. If the letters are not on the same row or column, replace them with the letters on the same row respectively but at the other pair of corners of the rectangle defined by the original pair. The order is important – the first letter of the encrypted pair is the one that lies on the same row as the first letter of the plaintext pair.\n",
        "\n",
        "\n",
        "To **decrypt**, use the inverse (opposite) of the last 3 rules, and the first as-is (dropping any extra \"X\"s or \"Q\"s that do not make sense in the final message when finished).\n",
        "\n",
        "source: https://en.wikipedia.org/wiki/Playfair_cipher\n"
      ]
    },
    {
      "cell_type": "code",
      "metadata": {
        "id": "4jXIv_5Pz7XV"
      },
      "source": [
        "decipher = \"PTBOATONEOWENINELOSTINACTIONINBLACKETTSTRAITTWOMILESSWMERESUCOVEXCREWOFTWELVEXREQUESTANYINFORMATIONX\""
      ],
      "execution_count": null,
      "outputs": []
    },
    {
      "cell_type": "markdown",
      "metadata": {
        "id": "OFAaYBP00FKr"
      },
      "source": [
        "### Now it is time to identify each word"
      ]
    },
    {
      "cell_type": "code",
      "metadata": {
        "id": "UtUogLWH0KXZ",
        "outputId": "e0ced6ed-3ff4-401f-b499-3e970ada5fa6",
        "colab": {
          "base_uri": "https://localhost:8080/",
          "height": 35
        }
      },
      "source": [
        "decipher = \"PT BOAT ONE OWE NINE LOST IN ACTION IN BLACKETT STRAIT TWO MILES SW MERESU COVE X CREW OF TWELVE X REQUEST ANY INFORMATION X\"\n",
        "decipher"
      ],
      "execution_count": 31,
      "outputs": [
        {
          "output_type": "execute_result",
          "data": {
            "application/vnd.google.colaboratory.intrinsic+json": {
              "type": "string"
            },
            "text/plain": [
              "'PT BOAT ONE OWE NINE LOST IN ACTION IN BLACKE II STRAIT TWO MILES SW MERESU COVE X CREW OF TWELVE X REQUEST ANY INFORMATION X'"
            ]
          },
          "metadata": {
            "tags": []
          },
          "execution_count": 31
        }
      ]
    },
    {
      "cell_type": "markdown",
      "metadata": {
        "id": "_sOfZrdh1vsQ"
      },
      "source": [
        "And finally delete the 'X' at the end"
      ]
    },
    {
      "cell_type": "code",
      "metadata": {
        "id": "jhg-R3vN12Hj",
        "outputId": "bb00848e-3bba-4b8f-ee20-882723f79d5c",
        "colab": {
          "base_uri": "https://localhost:8080/",
          "height": 35
        }
      },
      "source": [
        "decipher = \"PT BOAT ONE OWE NINE LOST IN ACTION IN BLACKETT STRAIT TWO MILES SW MERESU COVE X CREW OF TWELVE X REQUEST ANY INFORMATION\"\n",
        "decipher"
      ],
      "execution_count": 32,
      "outputs": [
        {
          "output_type": "execute_result",
          "data": {
            "application/vnd.google.colaboratory.intrinsic+json": {
              "type": "string"
            },
            "text/plain": [
              "'PT BOAT ONE OWE NINE LOST IN ACTION IN BLACKETT STRAIT TWO MILES SW MERESU COVE X CREW OF TWELVE X REQUEST ANY INFORMATION'"
            ]
          },
          "metadata": {
            "tags": []
          },
          "execution_count": 32
        }
      ]
    }
  ]
}
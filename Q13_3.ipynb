{
  "nbformat": 4,
  "nbformat_minor": 0,
  "metadata": {
    "colab": {
      "name": "Q13_3.ipynb",
      "provenance": [],
      "authorship_tag": "ABX9TyO+b4+QtMqEGTx7kZXgqT0b",
      "include_colab_link": true
    },
    "kernelspec": {
      "name": "python3",
      "display_name": "Python 3"
    }
  },
  "cells": [
    {
      "cell_type": "markdown",
      "metadata": {
        "id": "view-in-github",
        "colab_type": "text"
      },
      "source": [
        "<a href=\"https://colab.research.google.com/github/mowhamadrexa/EECS3481Assignments/blob/main/Q13_3.ipynb\" target=\"_parent\"><img src=\"https://colab.research.google.com/assets/colab-badge.svg\" alt=\"Open In Colab\"/></a>"
      ]
    },
    {
      "cell_type": "markdown",
      "metadata": {
        "id": "ppuijQApZVSc"
      },
      "source": [
        "$s = [K^{-1}H(M)+xr]\\mod q \\Rightarrow x = \\tfrac{Ks-H(M)}{r}\\mod q$<br>\n",
        "As before, $x$ is the private key, and $K$ is the key. $H(M), r, s$ can easily be known from the messages.<br>\n",
        "If the value of $K$ is known (compromised), since we have all the pieces in the equation, we can derive the value of $x$ which is the private key, and important.\n"
      ]
    }
  ]
}
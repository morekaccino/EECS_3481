{
  "nbformat": 4,
  "nbformat_minor": 0,
  "metadata": {
    "colab": {
      "name": "Q9_4.ipynb",
      "provenance": [],
      "authorship_tag": "ABX9TyOXTxlR3rk4xqUTID/Wk0gB",
      "include_colab_link": true
    },
    "kernelspec": {
      "name": "python3",
      "display_name": "Python 3"
    }
  },
  "cells": [
    {
      "cell_type": "markdown",
      "metadata": {
        "id": "view-in-github",
        "colab_type": "text"
      },
      "source": [
        "<a href=\"https://colab.research.google.com/github/mowhamadrexa/EECS3481Assignments/blob/main/Q9_4.ipynb\" target=\"_parent\"><img src=\"https://colab.research.google.com/assets/colab-badge.svg\" alt=\"Open In Colab\"/></a>"
      ]
    },
    {
      "cell_type": "markdown",
      "metadata": {
        "id": "ytDU6Icr--PR"
      },
      "source": [
        "e = 31, n = 3599"
      ]
    },
    {
      "cell_type": "code",
      "metadata": {
        "id": "Cvl_DNtl_bOL"
      },
      "source": [
        "from math import gcd"
      ],
      "execution_count": 1,
      "outputs": []
    },
    {
      "cell_type": "code",
      "metadata": {
        "id": "SOv5krup9cr-",
        "colab": {
          "base_uri": "https://localhost:8080/"
        },
        "outputId": "30db8e8a-0e29-47a9-e0c0-0b6830db1f28"
      },
      "source": [
        "for i in range(2, 3600):\n",
        "  for j in range(2, 3600):\n",
        "    if i * j == 3599 and gcd(i, j) == 1:\n",
        "      print([i, j])"
      ],
      "execution_count": 3,
      "outputs": [
        {
          "output_type": "stream",
          "text": [
            "[59, 61]\n",
            "[61, 59]\n"
          ],
          "name": "stdout"
        }
      ]
    },
    {
      "cell_type": "code",
      "metadata": {
        "id": "F9ry1VpR_oXR"
      },
      "source": [
        "p = 61\n",
        "q = 59"
      ],
      "execution_count": 4,
      "outputs": []
    },
    {
      "cell_type": "code",
      "metadata": {
        "colab": {
          "base_uri": "https://localhost:8080/"
        },
        "id": "lMTwFngU9r7b",
        "outputId": "f47526e5-3ffb-47a7-aa19-ee0ee6bdf6a0"
      },
      "source": [
        "n = p * q\n",
        "n"
      ],
      "execution_count": 5,
      "outputs": [
        {
          "output_type": "execute_result",
          "data": {
            "text/plain": [
              "3599"
            ]
          },
          "metadata": {
            "tags": []
          },
          "execution_count": 5
        }
      ]
    },
    {
      "cell_type": "code",
      "metadata": {
        "colab": {
          "base_uri": "https://localhost:8080/"
        },
        "id": "exkNHl7l_rD4",
        "outputId": "1a57c675-4403-487f-e993-1616d99e18b3"
      },
      "source": [
        "phi = (p - 1) * (q - 1)\n",
        "phi"
      ],
      "execution_count": 6,
      "outputs": [
        {
          "output_type": "execute_result",
          "data": {
            "text/plain": [
              "3480"
            ]
          },
          "metadata": {
            "tags": []
          },
          "execution_count": 6
        }
      ]
    },
    {
      "cell_type": "code",
      "metadata": {
        "colab": {
          "base_uri": "https://localhost:8080/"
        },
        "id": "m1U6xSs79za3",
        "outputId": "ecac561a-6a17-401b-ec2f-e7de6b8b27d7"
      },
      "source": [
        "e = 31\n",
        "e"
      ],
      "execution_count": 7,
      "outputs": [
        {
          "output_type": "execute_result",
          "data": {
            "text/plain": [
              "31"
            ]
          },
          "metadata": {
            "tags": []
          },
          "execution_count": 7
        }
      ]
    },
    {
      "cell_type": "code",
      "metadata": {
        "colab": {
          "base_uri": "https://localhost:8080/"
        },
        "id": "jx7gM1Km_wUG",
        "outputId": "0549b626-47ae-403d-999e-dc4b2329652c"
      },
      "source": [
        "gcd(phi, e)"
      ],
      "execution_count": 8,
      "outputs": [
        {
          "output_type": "execute_result",
          "data": {
            "text/plain": [
              "1"
            ]
          },
          "metadata": {
            "tags": []
          },
          "execution_count": 8
        }
      ]
    },
    {
      "cell_type": "code",
      "metadata": {
        "colab": {
          "base_uri": "https://localhost:8080/"
        },
        "id": "SHtKYrvW_uPd",
        "outputId": "83deacba-854b-498e-b20c-d84f863788ad"
      },
      "source": [
        "d = 0\n",
        "for i in range(phi):\n",
        "  if i * e % phi == 1:\n",
        "    d = i\n",
        "    break\n",
        "d"
      ],
      "execution_count": 14,
      "outputs": [
        {
          "output_type": "execute_result",
          "data": {
            "text/plain": [
              "3031"
            ]
          },
          "metadata": {
            "tags": []
          },
          "execution_count": 14
        }
      ]
    },
    {
      "cell_type": "markdown",
      "metadata": {
        "id": "Scaol8_VApRf"
      },
      "source": [
        "d = 3031\n",
        "<br>Private key = [3031, 3599]\n",
        "<br>\n"
      ]
    }
  ]
}
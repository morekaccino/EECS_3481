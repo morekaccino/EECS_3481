{
  "nbformat": 4,
  "nbformat_minor": 0,
  "metadata": {
    "colab": {
      "name": "Q4.11.ipynb",
      "provenance": [],
      "authorship_tag": "ABX9TyNsGTAVcwHa47AXpqUZKPJI",
      "include_colab_link": true
    },
    "kernelspec": {
      "name": "python3",
      "display_name": "Python 3"
    }
  },
  "cells": [
    {
      "cell_type": "markdown",
      "metadata": {
        "id": "view-in-github",
        "colab_type": "text"
      },
      "source": [
        "<a href=\"https://colab.research.google.com/github/mowhamadrexa/EECS3481Assignments/blob/main/Q4_11.ipynb\" target=\"_parent\"><img src=\"https://colab.research.google.com/assets/colab-badge.svg\" alt=\"Open In Colab\"/></a>"
      ]
    },
    {
      "cell_type": "code",
      "metadata": {
        "id": "njImmBFIg1EU"
      },
      "source": [
        "import numpy as np"
      ],
      "execution_count": 50,
      "outputs": []
    },
    {
      "cell_type": "markdown",
      "metadata": {
        "id": "NLcY7ckDZauM"
      },
      "source": [
        "We start with the same bit pattern for the key and the plaintext:<br>\n",
        "plantext = 0x0123456789ABCDEF<br>\n",
        "key = 0x0123456789ABCDEF"
      ]
    },
    {
      "cell_type": "code",
      "metadata": {
        "id": "OSAomNfebKr_",
        "outputId": "92029282-da0c-4d3f-ed09-78d379dc86aa",
        "colab": {
          "base_uri": "https://localhost:8080/",
          "height": 35
        }
      },
      "source": [
        "plain = 0x0123456789ABCDEF\n",
        "key = 0x0123456789ABCDEF\n",
        "\"{0:{fill}64b}\".format(key, fill='0')"
      ],
      "execution_count": 14,
      "outputs": [
        {
          "output_type": "execute_result",
          "data": {
            "application/vnd.google.colaboratory.intrinsic+json": {
              "type": "string"
            },
            "text/plain": [
              "'0000000100100011010001010110011110001001101010111100110111101111'"
            ]
          },
          "metadata": {
            "tags": []
          },
          "execution_count": 14
        }
      ]
    },
    {
      "cell_type": "code",
      "metadata": {
        "id": "zaZgEJ81dBAH"
      },
      "source": [
        "PC_1 = \"\"\"57   49    41   33    25    17    9\n",
        "        1   58    50   42    34    26   18\n",
        "       10    2    59   51    43    35   27\n",
        "       19   11     3   60    52    44   36\n",
        "       63   55    47   39    31    23   15\n",
        "        7   62    54   46    38    30   22\n",
        "       14    6    61   53    45    37   29\n",
        "       21   13     5   28    20    12    4\"\"\"\n",
        "PC_1 = list(map(int, PC_1.split()))\n",
        "for i in range(len(PC_1)):\n",
        "  PC_1[i] -= 1"
      ],
      "execution_count": 37,
      "outputs": []
    },
    {
      "cell_type": "markdown",
      "metadata": {
        "id": "hAUwLPi0fAsf"
      },
      "source": [
        "We apply PC 1 to the key"
      ]
    },
    {
      "cell_type": "code",
      "metadata": {
        "id": "pbGabkxZbtDT",
        "outputId": "6784c430-a69f-448a-ddb7-db5bc44eaaea",
        "colab": {
          "base_uri": "https://localhost:8080/"
        }
      },
      "source": [
        "binary = '0000000100100011010001010110011110001001101010111100110111101111'\n",
        "\n",
        "key1 = ''\n",
        "for i in PC_1:\n",
        "  key1 += binary[i]\n",
        "\n",
        "c0 = key1[:28]\n",
        "d0 = key1[28:]\n",
        "\n",
        "print(\"PC_1 key\", key1)"
      ],
      "execution_count": 74,
      "outputs": [
        {
          "output_type": "stream",
          "text": [
            "PC 1 key 11110000110011001010101000001010101011001100111100000000\n"
          ],
          "name": "stdout"
        }
      ]
    },
    {
      "cell_type": "code",
      "metadata": {
        "id": "kArAlsjvldg-",
        "outputId": "9c7fe314-295e-4b55-f0d8-46fe7958f95b",
        "colab": {
          "base_uri": "https://localhost:8080/"
        }
      },
      "source": [
        "#                     Iteration     Number of\n",
        "#                      Number      Left Shifts\n",
        "iterations = \"\"\"\n",
        "                          1          1\n",
        "                          2          1\n",
        "                          3          2\n",
        "                          4          2\n",
        "                          5          2\n",
        "                          6          2\n",
        "                          7          2\n",
        "                          8          2\n",
        "                          9          1\n",
        "                         10          2\n",
        "                         11          2\n",
        "                         12          2\n",
        "                         13          2\n",
        "                         14          2\n",
        "                         15          2\n",
        "                         16          1\"\"\"\n",
        "iterations = np.array(list(map(int, iterations.split()))).reshape(16, 2)\n",
        "iterations\n",
        "\n",
        "c_subkeys = [c0]\n",
        "d_subkeys = [d0]\n",
        "for index, i in enumerate(iterations):\n",
        "  newC = c_subkeys[-1]\n",
        "  c_subkeys.append(newC[i[1]:]+newC[:i[1]])\n",
        "  newD = d_subkeys[-1]\n",
        "  d_subkeys.append(newD[i[1]:]+newD[:i[1]])\n",
        "\n",
        "for i in range(0, 17):\n",
        "  print('C'+str(i)+':', c_subkeys[i])\n",
        "  print('D'+str(i)+':', d_subkeys[i])\n",
        "  print()"
      ],
      "execution_count": 75,
      "outputs": [
        {
          "output_type": "stream",
          "text": [
            "C0: 1111000011001100101010100000\n",
            "D0: 1010101011001100111100000000\n",
            "\n",
            "C1: 1110000110011001010101000001\n",
            "D1: 0101010110011001111000000001\n",
            "\n",
            "C2: 1100001100110010101010000011\n",
            "D2: 1010101100110011110000000010\n",
            "\n",
            "C3: 0000110011001010101000001111\n",
            "D3: 1010110011001111000000001010\n",
            "\n",
            "C4: 0011001100101010100000111100\n",
            "D4: 1011001100111100000000101010\n",
            "\n",
            "C5: 1100110010101010000011110000\n",
            "D5: 1100110011110000000010101010\n",
            "\n",
            "C6: 0011001010101000001111000011\n",
            "D6: 0011001111000000001010101011\n",
            "\n",
            "C7: 1100101010100000111100001100\n",
            "D7: 1100111100000000101010101100\n",
            "\n",
            "C8: 0010101010000011110000110011\n",
            "D8: 0011110000000010101010110011\n",
            "\n",
            "C9: 0101010100000111100001100110\n",
            "D9: 0111100000000101010101100110\n",
            "\n",
            "C10: 0101010000011110000110011001\n",
            "D10: 1110000000010101010110011001\n",
            "\n",
            "C11: 0101000001111000011001100101\n",
            "D11: 1000000001010101011001100111\n",
            "\n",
            "C12: 0100000111100001100110010101\n",
            "D12: 0000000101010101100110011110\n",
            "\n",
            "C13: 0000011110000110011001010101\n",
            "D13: 0000010101010110011001111000\n",
            "\n",
            "C14: 0001111000011001100101010100\n",
            "D14: 0001010101011001100111100000\n",
            "\n",
            "C15: 0111100001100110010101010000\n",
            "D15: 0101010101100110011110000000\n",
            "\n",
            "C16: 1111000011001100101010100000\n",
            "D16: 1010101011001100111100000000\n",
            "\n"
          ],
          "name": "stdout"
        }
      ]
    },
    {
      "cell_type": "code",
      "metadata": {
        "id": "Bb9RC_JUqyLp",
        "outputId": "729d8c8f-7532-4952-be2d-edf061fdb098",
        "colab": {
          "base_uri": "https://localhost:8080/"
        }
      },
      "source": [
        "PC_2 = list(map(int, \"\"\"\n",
        "                           14 17 11 24  1  5\n",
        "                            3 28 15  6 21 10\n",
        "                           23 19 12  4 26  8\n",
        "                           16  7 27 20 13  2\n",
        "                           41 52 31 37 47 55\n",
        "                           30 40 51 45 33 48\n",
        "                           44 49 39 56 34 53\n",
        "                           46 42 50 36 29 32\n",
        "\"\"\".split()))\n",
        "\n",
        "keys = []\n",
        "for i in range(0, 17):\n",
        "  newKey = c_subkeys[i] + d_subkeys[i]\n",
        "  permutedNewKey = \"\"\n",
        "  for j in PC_2:\n",
        "    permutedNewKey += newKey[j-1]\n",
        "  keys.append(permutedNewKey)\n",
        "\n",
        "keys"
      ],
      "execution_count": 83,
      "outputs": [
        {
          "output_type": "execute_result",
          "data": {
            "text/plain": [
              "['110010100011110100000011101110000111000000110010',\n",
              " '000010110000001001100111100110110100100110100101',\n",
              " '011010011010011001011001001001010110101000100110',\n",
              " '010001011101010010001010101101000010100011010010',\n",
              " '011100101000100111010010101001011000001001010111',\n",
              " '001111001110100000000011000101111010011011000010',\n",
              " '001000110010010100011110001111001000010101000101',\n",
              " '011011000000010010010101000010101110010011000110',\n",
              " '010101111000100000111000011011001110010110000001',\n",
              " '110000001100100111101001001001101011100000111001',\n",
              " '100100011110001100000111011000110001110101110010',\n",
              " '001000010001111110000011000011011000100100111010',\n",
              " '011100010011000011100101010001010101110001010100',\n",
              " '100100011100010011010000010010011000000011111100',\n",
              " '010101000100001110110110100000011101110010001101',\n",
              " '101101101001000100000101000010100001011010110101',\n",
              " '110010100011110100000011101110000111000000110010']"
            ]
          },
          "metadata": {
            "tags": []
          },
          "execution_count": 83
        }
      ]
    },
    {
      "cell_type": "markdown",
      "metadata": {
        "id": "lj5aCluVsFtd"
      },
      "source": [
        "# (a) Therefore $K_{1}$ is"
      ]
    },
    {
      "cell_type": "code",
      "metadata": {
        "id": "1N11umBUsItE",
        "outputId": "68152f8d-a5c4-41bd-dcd0-6d33568cd35d",
        "colab": {
          "base_uri": "https://localhost:8080/",
          "height": 35
        }
      },
      "source": [
        "keys[1]"
      ],
      "execution_count": 84,
      "outputs": [
        {
          "output_type": "execute_result",
          "data": {
            "application/vnd.google.colaboratory.intrinsic+json": {
              "type": "string"
            },
            "text/plain": [
              "'000010110000001001100111100110110100100110100101'"
            ]
          },
          "metadata": {
            "tags": []
          },
          "execution_count": 84
        }
      ]
    },
    {
      "cell_type": "markdown",
      "metadata": {
        "id": "jnalfoo1ubJB"
      },
      "source": [
        "# (b) $L_{0}$ and $R_{0}$ are:"
      ]
    },
    {
      "cell_type": "code",
      "metadata": {
        "id": "bij_0XD4tb3B",
        "outputId": "9b81e2b7-2c56-43ff-fa6e-f940ad665c47",
        "colab": {
          "base_uri": "https://localhost:8080/"
        }
      },
      "source": [
        "IP = list(map(int, \"\"\"58 50 42 34 26 18 10  2\n",
        "                        60 52 44 36 28 20 12  4\n",
        "                        62 54 46 38 30 22 14  6\n",
        "                        64 56 48 40 32 24 16  8\n",
        "                        57 49 41 33 25 17  9  1\n",
        "                        59 51 43 35 27 19 11  3\n",
        "                        61 53 45 37 29 21 13  5\n",
        "                        63 55 47 39 31 23 15  7\"\"\".split()))\n",
        "ip0 = \"\"\n",
        "for index, i in enumerate(IP):\n",
        "  ip0 += binary[i-1]\n",
        "\n",
        "ip0\n",
        "l0 = ip0[:32]\n",
        "r0 = ip0[32:]\n",
        "\n",
        "print(\"IP0 is:\", ip0)\n",
        "print(\"L0 is :\", l0)\n",
        "print(\"r0 is :\", r0)"
      ],
      "execution_count": 88,
      "outputs": [
        {
          "output_type": "stream",
          "text": [
            "IP0 is: 1100110000000000110011001111111111110000101010101111000010101010\n",
            "L0 is : 11001100000000001100110011111111\n",
            "r0 is : 11110000101010101111000010101010\n"
          ],
          "name": "stdout"
        }
      ]
    },
    {
      "cell_type": "markdown",
      "metadata": {
        "id": "YvYxlANcuvqo"
      },
      "source": [
        "# (c) $E[R_{0}]$ is"
      ]
    },
    {
      "cell_type": "code",
      "metadata": {
        "id": "APvaA0Dwh2OV",
        "outputId": "521b1556-675a-47ee-86ef-3a68fa20362e",
        "colab": {
          "base_uri": "https://localhost:8080/"
        }
      },
      "source": [
        "E = list(map(int, \"\"\"32 1 2 3 4 5\n",
        "4 5 6 7 8 9\n",
        "8 9 10 11 12 13\n",
        "12 13 14 15 16 17\n",
        "16 17 18 19 20 21\n",
        "20 21 22 23 24 25\n",
        "24 25 26 27 28 29\n",
        "28 29 30 31 32 1\"\"\".split()))\n",
        "E = np.array(E)\n",
        "\n",
        "EofR0 = \"\"\n",
        "for i in E:\n",
        "  EofR0 += r0[i-1]\n",
        "\n",
        "print(\"E(R0):\", EofR0)"
      ],
      "execution_count": 89,
      "outputs": [
        {
          "output_type": "stream",
          "text": [
            "E(R0): 011110100001010101010101011110100001010101010101\n"
          ],
          "name": "stdout"
        }
      ]
    },
    {
      "cell_type": "markdown",
      "metadata": {
        "id": "lNRr-quDfEuV"
      },
      "source": [
        "# (d) $A = E[R_{0}] ⊕ K1$ is"
      ]
    },
    {
      "cell_type": "code",
      "metadata": {
        "id": "AzB0fACLgOJk",
        "outputId": "e747cbc8-e861-4ecf-dff8-6172953e084e",
        "colab": {
          "base_uri": "https://localhost:8080/"
        }
      },
      "source": [
        "k1 = keys[1]\n",
        "A = ''\n",
        "for e, k in zip(EofR0, k1):\n",
        "  A += str(int(e) ^ int(k))\n",
        "\n",
        "print('K1\\t',k1)\n",
        "print('E[R0]\\t', EofR0)\n",
        "print('A\\t',A)"
      ],
      "execution_count": 98,
      "outputs": [
        {
          "output_type": "stream",
          "text": [
            "K1\t 000010110000001001100111100110110100100110100101\n",
            "E[R0]\t 011110100001010101010101011110100001010101010101\n",
            "A\t 011100010001011100110010111000010101110011110000\n"
          ],
          "name": "stdout"
        }
      ]
    },
    {
      "cell_type": "markdown",
      "metadata": {
        "id": "rvfpRv1g3O2c"
      },
      "source": [
        "# (e)"
      ]
    },
    {
      "cell_type": "code",
      "metadata": {
        "id": "a6qX4yxsg7Jj",
        "outputId": "37b0da28-eee1-4734-fe22-f4e11b1e6501",
        "colab": {
          "base_uri": "https://localhost:8080/"
        }
      },
      "source": [
        "A = np.array(list(A)).reshape(8, 6)\n",
        "A"
      ],
      "execution_count": 99,
      "outputs": [
        {
          "output_type": "execute_result",
          "data": {
            "text/plain": [
              "array([['0', '1', '1', '1', '0', '0'],\n",
              "       ['0', '1', '0', '0', '0', '1'],\n",
              "       ['0', '1', '1', '1', '0', '0'],\n",
              "       ['1', '1', '0', '0', '1', '0'],\n",
              "       ['1', '1', '1', '0', '0', '0'],\n",
              "       ['0', '1', '0', '1', '0', '1'],\n",
              "       ['1', '1', '0', '0', '1', '1'],\n",
              "       ['1', '1', '0', '0', '0', '0']], dtype='<U1')"
            ]
          },
          "metadata": {
            "tags": []
          },
          "execution_count": 99
        }
      ]
    },
    {
      "cell_type": "code",
      "metadata": {
        "id": "9D676qAgyLSA"
      },
      "source": [
        "\"\"\"\n",
        "                       Substitution Box 1 (S[1])\n",
        "\n",
        "            14  4 13  1  2 15 11  8  3 10  6 12  5  9  0  7\n",
        "             0 15  7  4 14  2 13  1 10  6 12 11  9  5  3  8\n",
        "             4  1 14  8 13  6  2 11 15 12  9  7  3 10  5  0\n",
        "            15 12  8  2  4  9  1  7  5 11  3 14 10  0  6 13\n",
        "\"\"\"\n",
        "row = 0b00    # = 0\n",
        "col = 0b1110  # = 14\n",
        "final result = 0\n",
        "############################################################\n",
        "\"\"\"\n",
        "                                  S[2]\n",
        "\n",
        "            15  1  8 14  6 11  3  4  9  7  2 13 12  0  5 10\n",
        "             3 13  4  7 15  2  8 14 12  0  1 10  6  9 11  5\n",
        "             0 14  7 11 10  4 13  1  5  8 12  6  9  3  2 15\n",
        "            13  8 10  1  3 15  4  2 11  6  7 12  0  5 14  9\n",
        "\"\"\"\n",
        "row = 0b01    # = 1\n",
        "col = 0b1000  # = 8\n",
        "final result = 12\n",
        "############################################################\n",
        "\"\"\"\n",
        "                                  S[3]\n",
        "\n",
        "            10  0  9 14  6  3 15  5  1 13 12  7 11  4  2  8\n",
        "            13  7  0  9  3  4  6 10  2  8  5 14 12 11 15  1\n",
        "            13  6  4  9  8 15  3  0 11  1  2 12  5 10 14  7\n",
        "             1 10 13  0  6  9  8  7  4 15 14  3 11  5  2 12\n",
        "\"\"\"\n",
        "row = 0b00    # = 0\n",
        "col = 0b1110  # = 14\n",
        "final result = 2\n",
        "############################################################\n",
        "\"\"\"\n",
        "                                  S[4]\n",
        "\n",
        "             7 13 14  3  0  6  9 10  1  2  8  5 11 12  4 15\n",
        "            13  8 11  5  6 15  0  3  4  7  2 12  1 10 14  9\n",
        "            10  6  9  0 12 11  7 13 15  1  3 14  5  2  8  4\n",
        "             3 15  0  6 10  1 13  8  9  4  5 11 12  7  2 14\n",
        "\"\"\"\n",
        "row = 0b10    # = 2\n",
        "col = 0b1001  # = 9\n",
        "final result = 1\n",
        "############################################################\n",
        "\"\"\"\n",
        "                                  S[5]\n",
        "\n",
        "             2 12  4  1  7 10 11  6  8  5  3 15 13  0 14  9\n",
        "            14 11  2 12  4  7 13  1  5  0 15 10  3  9  8  6\n",
        "             4  2  1 11 10 13  7  8 15  9 12  5  6  3  0 14\n",
        "            11  8 12  7  1 14  2 13  6 15  0  9 10  4  5  3\n",
        "\"\"\"\n",
        "row = 0b10    # = 2\n",
        "col = 0b1100  # = 12\n",
        "final result = 6\n",
        "############################################################\n",
        "\"\"\"\n",
        "                                  S[6]\n",
        "\n",
        "            12  1 10 15  9  2  6  8  0 13  3  4 14  7  5 11\n",
        "            10 15  4  2  7 12  9  5  6  1 13 14  0 11  3  8\n",
        "             9 14 15  5  2  8 12  3  7  0  4 10  1 13 11  6\n",
        "             4  3  2 12  9  5 15 10 11 14  1  7  6  0  8 13\n",
        "\"\"\"\n",
        "row = 0b01    # = 1\n",
        "col = 0b1010  # = 10\n",
        "final result = 13\n",
        "############################################################\n",
        "\"\"\"\n",
        "                                  S[7]\n",
        "\n",
        "             4 11  2 14 15  0  8 13  3 12  9  7  5 10  6  1\n",
        "            13  0 11  7  4  9  1 10 14  3  5 12  2 15  8  6\n",
        "             1  4 11 13 12  3  7 14 10 15  6  8  0  5  9  2\n",
        "             6 11 13  8  1  4 10  7  9  5  0 15 14  2  3 12\n",
        "\"\"\"\n",
        "row = 0b11    # = 3\n",
        "col = 0b1001  # = 9\n",
        "final result = 5\n",
        "############################################################\n",
        "\"\"\"\n",
        "                                  S[8]\n",
        "\n",
        "            13  2  8  4  6 15 11  1 10  9  3 14  5  0 12  7\n",
        "             1 15 13  8 10  3  7  4 12  5  6 11  0 14  9  2\n",
        "             7 11  4  1  9 12 14  2  0  6 10 13 15  3  5  8\n",
        "             2  1 14  7  4 10  8 13 15 12  9  0  3  5  6 11\n",
        "\"\"\"\n",
        "row = 0b10    # = 2\n",
        "col = 0b1000  # = 8\n",
        "final result = 0\n",
        "############################################################"
      ],
      "execution_count": 100,
      "outputs": []
    },
    {
      "cell_type": "markdown",
      "metadata": {
        "id": "zoi7gqJS3XQl"
      },
      "source": [
        "# (f) B is"
      ]
    },
    {
      "cell_type": "code",
      "metadata": {
        "id": "PJlD1z7r2ixb",
        "outputId": "b0350577-536a-4c40-f401-6b5dddf3f99a",
        "colab": {
          "base_uri": "https://localhost:8080/",
          "height": 35
        }
      },
      "source": [
        "B = ''.join(['0000','1100','0010','0001','0110','1101','0101','0000'])\n",
        "B"
      ],
      "execution_count": 105,
      "outputs": [
        {
          "output_type": "execute_result",
          "data": {
            "application/vnd.google.colaboratory.intrinsic+json": {
              "type": "string"
            },
            "text/plain": [
              "'00001100001000010110110101010000'"
            ]
          },
          "metadata": {
            "tags": []
          },
          "execution_count": 105
        }
      ]
    },
    {
      "cell_type": "markdown",
      "metadata": {
        "id": "TpHC80uA3Z_w"
      },
      "source": [
        "# (g) $P(B)$ is"
      ]
    },
    {
      "cell_type": "code",
      "metadata": {
        "id": "yvN2Ej9z3hQy",
        "outputId": "f5785ff4-f5a8-49be-d807-b132199726d0",
        "colab": {
          "base_uri": "https://localhost:8080/",
          "height": 35
        }
      },
      "source": [
        "P = list(map(int, \"\"\"\n",
        "                              16  7 20 21\n",
        "                              29 12 28 17\n",
        "                               1 15 23 26\n",
        "                               5 18 31 10\n",
        "                               2  8 24 14\n",
        "                              32 27  3  9\n",
        "                              19 13 30  6\n",
        "                              22 11  4 25\n",
        "\n",
        "\"\"\".split()))\n",
        "PofB = ''\n",
        "for i in P:\n",
        "  PofB += B[i-1]\n",
        "\n",
        "PofB"
      ],
      "execution_count": 107,
      "outputs": [
        {
          "output_type": "execute_result",
          "data": {
            "application/vnd.google.colaboratory.intrinsic+json": {
              "type": "string"
            },
            "text/plain": [
              "'10010010000111000010000010011100'"
            ]
          },
          "metadata": {
            "tags": []
          },
          "execution_count": 107
        }
      ]
    },
    {
      "cell_type": "markdown",
      "metadata": {
        "id": "8KUcxWph4I95"
      },
      "source": [
        "# (h) $R_{1} = P(B) ⊕ L0$"
      ]
    },
    {
      "cell_type": "code",
      "metadata": {
        "id": "8T9WIQnO4TJU",
        "outputId": "8065b4dd-bbba-4f74-9ee8-c7514fa63ec3",
        "colab": {
          "base_uri": "https://localhost:8080/"
        }
      },
      "source": [
        "r1 = ''\n",
        "\n",
        "for pb, l in zip(PofB, l0):\n",
        "  r1 += str(int(pb) ^ int(l))\n",
        "print('R1:',r1)"
      ],
      "execution_count": 108,
      "outputs": [
        {
          "output_type": "stream",
          "text": [
            "R1: 01011110000111001110110001100011\n"
          ],
          "name": "stdout"
        }
      ]
    },
    {
      "cell_type": "markdown",
      "metadata": {
        "id": "U0W2Ikul5KB-"
      },
      "source": [
        "# (i) the ciphertext = $L_{1} + R_{1}$"
      ]
    },
    {
      "cell_type": "code",
      "metadata": {
        "id": "P0FQd-tY4mLR",
        "outputId": "6655dfa4-c857-4bf8-ed18-37c09f7f07e4",
        "colab": {
          "base_uri": "https://localhost:8080/",
          "height": 35
        }
      },
      "source": [
        "l1 = r0\n",
        "ciphertext = l1 + r1\n",
        "ciphertext"
      ],
      "execution_count": 109,
      "outputs": [
        {
          "output_type": "execute_result",
          "data": {
            "application/vnd.google.colaboratory.intrinsic+json": {
              "type": "string"
            },
            "text/plain": [
              "'1111000010101010111100001010101001011110000111001110110001100011'"
            ]
          },
          "metadata": {
            "tags": []
          },
          "execution_count": 109
        }
      ]
    }
  ]
}
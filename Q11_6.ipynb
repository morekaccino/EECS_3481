{
  "nbformat": 4,
  "nbformat_minor": 0,
  "metadata": {
    "colab": {
      "name": "Q11_6.ipynb",
      "provenance": [],
      "authorship_tag": "ABX9TyN1TMfuNuZVH7y92t0Ww7Vr",
      "include_colab_link": true
    },
    "kernelspec": {
      "name": "python3",
      "display_name": "Python 3"
    }
  },
  "cells": [
    {
      "cell_type": "markdown",
      "metadata": {
        "id": "view-in-github",
        "colab_type": "text"
      },
      "source": [
        "<a href=\"https://colab.research.google.com/github/mowhamadrexa/EECS3481Assignments/blob/main/Q11_6.ipynb\" target=\"_parent\"><img src=\"https://colab.research.google.com/assets/colab-badge.svg\" alt=\"Open In Colab\"/></a>"
      ]
    },
    {
      "cell_type": "markdown",
      "metadata": {
        "id": "Lx37tqJNNoIj"
      },
      "source": [
        "The hash dunction H, accepts any arbitrary bit length as input, and maps it to a fixed n bit output.<br>\n",
        "Foor the output, we have $2^{n}$ unique output.<br>\n",
        "Every hash function with more inputs than outputs will necessarily have collisions.<br>\n",
        "For example, let's say the n=1, meaning H has only 2 outputs, according to the pigeon hole principle, the third input will be result in a repetitive output.<br>\n",
        "Collision-resistant wouldn't help, because it doesn't mean that no collisions exist, simply that they are hard to find."
      ]
    }
  ]
}
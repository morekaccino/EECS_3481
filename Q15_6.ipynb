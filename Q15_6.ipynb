{
  "nbformat": 4,
  "nbformat_minor": 0,
  "metadata": {
    "colab": {
      "name": "Q15_6.ipynb",
      "provenance": [],
      "collapsed_sections": [],
      "authorship_tag": "ABX9TyP7GHQFhUcYaoeCX2IzA9xK",
      "include_colab_link": true
    },
    "kernelspec": {
      "name": "python3",
      "display_name": "Python 3"
    }
  },
  "cells": [
    {
      "cell_type": "markdown",
      "metadata": {
        "id": "view-in-github",
        "colab_type": "text"
      },
      "source": [
        "<a href=\"https://colab.research.google.com/github/mowhamadrexa/EECS3481Assignments/blob/main/Q15_6.ipynb\" target=\"_parent\"><img src=\"https://colab.research.google.com/assets/colab-badge.svg\" alt=\"Open In Colab\"/></a>"
      ]
    },
    {
      "cell_type": "markdown",
      "metadata": {
        "id": "OuKpuWs6lyVD"
      },
      "source": [
        "First let's consider that nothing out of order happen:<br>\n",
        "$P_1=E(K, C_1)\\oplus v$<br><br>\n",
        "$P_2=E(K, C_2)\\oplus C_1 \\oplus P1$<br>\n",
        "$P_2=E(K, C_2)\\oplus C_1 \\oplus E(K, C_1)\\oplus v$<br><br>\n",
        "$P_3=E(K, C_3)\\oplus C_2 \\oplus P2$<br>\n",
        "$P_3=E(K, C_3)\\oplus C_2 \\oplus (E(K, C_2)\\oplus C_1 \\oplus E(K, C_1)\\oplus v)$<br>\n",
        "\n",
        "where $v$ is init vector, $K$ is secret key"
      ]
    },
    {
      "cell_type": "markdown",
      "metadata": {
        "id": "Re_9Wzmc77tJ"
      },
      "source": [
        "Not consider that $C_2$ comes before $C_1$<br>\n",
        "$P_1'=E(K, C_2)\\oplus v$\n",
        "<br><br>\n",
        "$P_2'=E(K, C_1)\\oplus C_2 \\oplus P1'$<br>\n",
        "$P_2'=E(K, C_1)\\oplus C_2 \\oplus E(K, C_2)\\oplus v$\n",
        "<br><br>\n",
        "$P_3'=E(K, C_3)\\oplus C_1 \\oplus P2'$<br>\n",
        "$P_3'=E(K, C_3)\\oplus C_1 \\oplus (E(K, C_1)\\oplus C_2 \\oplus E(K, C_2)\\oplus v$\n",
        "<br>"
      ]
    },
    {
      "cell_type": "markdown",
      "metadata": {
        "id": "lMIuh61j8_Fr"
      },
      "source": [
        "As you can see, $P_1 \\neq P_1'$ and $P_2 \\neq P_2'$, however, $P_3 = P_3'$, so if blocks $C_i$ and $C_{i+1}$ are interchanged during transmission.\n",
        "It only affects the decrypted blocks $P_i$ and $P_{i+1}$ but not subsequent\n",
        "blocks."
      ]
    }
  ]
}
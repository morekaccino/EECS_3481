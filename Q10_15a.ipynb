{
  "nbformat": 4,
  "nbformat_minor": 0,
  "metadata": {
    "colab": {
      "name": "Q10_15a.ipynb",
      "provenance": [],
      "authorship_tag": "ABX9TyOZMTbyhzaki62/SN7zIcJV",
      "include_colab_link": true
    },
    "kernelspec": {
      "name": "python3",
      "display_name": "Python 3"
    }
  },
  "cells": [
    {
      "cell_type": "markdown",
      "metadata": {
        "id": "view-in-github",
        "colab_type": "text"
      },
      "source": [
        "<a href=\"https://colab.research.google.com/github/mowhamadrexa/EECS3481Assignments/blob/main/Q10_15a.ipynb\" target=\"_parent\"><img src=\"https://colab.research.google.com/assets/colab-badge.svg\" alt=\"Open In Colab\"/></a>"
      ]
    },
    {
      "cell_type": "markdown",
      "metadata": {
        "id": "U1zC0OIaMrhR"
      },
      "source": [
        "# a)"
      ]
    },
    {
      "cell_type": "markdown",
      "metadata": {
        "id": "wtKlXZ4UN6dN"
      },
      "source": [
        "$$P_{b} = n_{b}\\times G = 7\\times G = P_{7}$$\n",
        "Now we need to calculate $P_{7}$<br>\n",
        "\n"
      ]
    },
    {
      "cell_type": "markdown",
      "metadata": {
        "id": "Et4qh8u-0Xjh"
      },
      "source": [
        "$P=(x_p, y_p)$, $Q=(x_Q, y_Q)$, so $P + Q = R$.<br>\n",
        "$x_R = (\\lambda^2 - x_p - x_Q)\\mod p$<br>\n",
        "$y_R = (\\lambda(x_p - x_R)-y_p)\\mod p$<br>\n",
        "Where $P=Q$, we can calculate $\\lambda=(3x^2_p + a / 2y_p)\\mod p = (3\\times 2^2 + 1)/(2\\times 7) = 8$<br>\n",
        "$x_3 = (8^2 - 2 - 2)\\mod 11 = 5$<br>\n",
        "$y_3 = (8(2-5)-7)\\mod 11 = 2$<br>\n",
        "So for point $2G = (5, 2)$,<br>\n",
        "$3G = 2G + G = (8, 3)$<br>\n",
        "$4G = 3G + G = (10, 2)$<br>\n",
        "$5G = 4G + G = (3, 6)$<br>\n",
        "$6G = 5G + G = (7, 9)$<br>\n",
        "$7G = 6G + G = (7, 2)$<br>"
      ]
    },
    {
      "cell_type": "markdown",
      "metadata": {
        "id": "RSj33n8M2wat"
      },
      "source": [
        "Therefore the final answer is $(7, 2)$"
      ]
    }
  ]
}
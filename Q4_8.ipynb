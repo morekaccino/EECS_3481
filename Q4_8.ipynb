{
  "nbformat": 4,
  "nbformat_minor": 0,
  "metadata": {
    "colab": {
      "name": "Q4.8.ipynb",
      "provenance": [],
      "authorship_tag": "ABX9TyM9AoK6j507admm6J31OX/n",
      "include_colab_link": true
    },
    "kernelspec": {
      "name": "python3",
      "display_name": "Python 3"
    }
  },
  "cells": [
    {
      "cell_type": "markdown",
      "metadata": {
        "id": "view-in-github",
        "colab_type": "text"
      },
      "source": [
        "<a href=\"https://colab.research.google.com/github/mowhamadrexa/EECS3481Assignments/blob/main/Q4_8.ipynb\" target=\"_parent\"><img src=\"https://colab.research.google.com/assets/colab-badge.svg\" alt=\"Open In Colab\"/></a>"
      ]
    },
    {
      "cell_type": "markdown",
      "metadata": {
        "id": "Ni0K8Pyc78xA"
      },
      "source": [
        "# Part a\n",
        "The goal is to prove:\n",
        "$$TD_{1}(IP(IP^{-1}(T_{17}(T_{16}(L_{15}\\parallel R_{15}))))) = R_{15}\\parallel L_{15}$$\n",
        "We start by\n",
        "$$T_{16}(L_{15}\\parallel R_{15})$$\n",
        "By definition, it returns the L and R for the 16th step:\n",
        "$$T_{16}(L_{15}\\parallel R_{15}) = L_{16}\\parallel R_{16}$$\n",
        "After that we have\n",
        "$$T_{17}(L_{16}\\parallel R_{16})$$\n",
        "By the given definition in the question:\n",
        "$$T_{17}(L_{16}\\parallel R_{16}) = R_{16}\\parallel L_{16}$$\n",
        "Then we have $$IP(IP^{-1}(\\cdot ))$$which returns the same result inside the parentheses ( . ), which is:\n",
        "$$R_{16}\\parallel L_{16}$$\n",
        "Finally, we have a TD, which is the transformation defined by the ith iteration of the decryption algorithm, and by definition we have:\n",
        "$$TD_{1}(R_{16}\\parallel L_{16}) = R_{15}\\parallel L_{15}$$\n",
        "which is the right-hand side of the initial equation. So we proved that."
      ]
    },
    {
      "cell_type": "markdown",
      "metadata": {
        "id": "FubrDusc_sRI"
      },
      "source": [
        "# Part b\n",
        "The goal is to prove:\n",
        "$$TD_{1}(IP(IP^{-1}(T_{16}(L_{15}\\parallel R_{15})))) = L_{15}\\parallel R_{15}$$\n",
        "We start by\n",
        "$$T_{16}(L_{15}\\parallel R_{15})$$\n",
        "By definition, it returns the L and R for the 16th step:\n",
        "$$T_{16}(L_{15}\\parallel R_{15}) = L_{16}\\parallel R_{16}$$\n",
        "\n",
        "Then we have $$IP(IP^{-1}(\\cdot ))$$which returns the same result inside the parentheses ( . ), which is:\n",
        "$$L_{16}\\parallel R_{16}$$\n",
        "Finally, we have a TD, which is the transformation defined by the ith iteration of the decryption algorithm, and by definition we have:\n",
        "$$TD_{1}(L_{16}\\parallel R_{16})$$\n",
        "We are given the definition for `TD(R || L)` not `TD(L || R)` and whatever is the result of `TD(L || R)` it's certainly not equal to $L_{15}\\parallel R_{15}$\n",
        "So we proved that this equation does not hold."
      ]
    }
  ]
}